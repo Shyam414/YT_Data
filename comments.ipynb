{
 "cells": [
  {
   "cell_type": "code",
   "execution_count": 1,
   "metadata": {},
   "outputs": [],
   "source": [
    "import pandas as pd"
   ]
  },
  {
   "cell_type": "code",
   "execution_count": 2,
   "metadata": {},
   "outputs": [
    {
     "data": {
      "text/html": [
       "<div>\n",
       "<style scoped>\n",
       "    .dataframe tbody tr th:only-of-type {\n",
       "        vertical-align: middle;\n",
       "    }\n",
       "\n",
       "    .dataframe tbody tr th {\n",
       "        vertical-align: top;\n",
       "    }\n",
       "\n",
       "    .dataframe thead th {\n",
       "        text-align: right;\n",
       "    }\n",
       "</style>\n",
       "<table border=\"1\" class=\"dataframe\">\n",
       "  <thead>\n",
       "    <tr style=\"text-align: right;\">\n",
       "      <th></th>\n",
       "      <th>video_id</th>\n",
       "      <th>comments</th>\n",
       "    </tr>\n",
       "  </thead>\n",
       "  <tbody>\n",
       "    <tr>\n",
       "      <th>0</th>\n",
       "      <td>YZSv1Q8zuWo</td>\n",
       "      <td>[]</td>\n",
       "    </tr>\n",
       "    <tr>\n",
       "      <th>1</th>\n",
       "      <td>njzjxMftEe8</td>\n",
       "      <td>[]</td>\n",
       "    </tr>\n",
       "    <tr>\n",
       "      <th>2</th>\n",
       "      <td>hmxfn4cTdlQ</td>\n",
       "      <td>[]</td>\n",
       "    </tr>\n",
       "    <tr>\n",
       "      <th>3</th>\n",
       "      <td>iXVGrwRxV2c</td>\n",
       "      <td>[]</td>\n",
       "    </tr>\n",
       "    <tr>\n",
       "      <th>4</th>\n",
       "      <td>vW_LAxHJY_w</td>\n",
       "      <td>[]</td>\n",
       "    </tr>\n",
       "    <tr>\n",
       "      <th>...</th>\n",
       "      <td>...</td>\n",
       "      <td>...</td>\n",
       "    </tr>\n",
       "    <tr>\n",
       "      <th>2729</th>\n",
       "      <td>TRM_e1O7TVU</td>\n",
       "      <td>['Modi hai toh mumkin hai❤️', 'No will power c...</td>\n",
       "    </tr>\n",
       "    <tr>\n",
       "      <th>2730</th>\n",
       "      <td>U_xZFqXOyFY</td>\n",
       "      <td>['That creepy smile', \"I ended 4 years relatio...</td>\n",
       "    </tr>\n",
       "    <tr>\n",
       "      <th>2731</th>\n",
       "      <td>k7dmrSbCpy4</td>\n",
       "      <td>['Finished all of ur shorts😂😂', '😊', 'Who came...</td>\n",
       "    </tr>\n",
       "    <tr>\n",
       "      <th>2732</th>\n",
       "      <td>cffqyq-U2Og</td>\n",
       "      <td>[\"I'm that guy but I don't have any group\", 'W...</td>\n",
       "    </tr>\n",
       "    <tr>\n",
       "      <th>2733</th>\n",
       "      <td>xxwNglca0Bo</td>\n",
       "      <td>['I saw this today ❤', 'Like if your watching ...</td>\n",
       "    </tr>\n",
       "  </tbody>\n",
       "</table>\n",
       "<p>2734 rows × 2 columns</p>\n",
       "</div>"
      ],
      "text/plain": [
       "         video_id                                           comments\n",
       "0     YZSv1Q8zuWo                                                 []\n",
       "1     njzjxMftEe8                                                 []\n",
       "2     hmxfn4cTdlQ                                                 []\n",
       "3     iXVGrwRxV2c                                                 []\n",
       "4     vW_LAxHJY_w                                                 []\n",
       "...           ...                                                ...\n",
       "2729  TRM_e1O7TVU  ['Modi hai toh mumkin hai❤️', 'No will power c...\n",
       "2730  U_xZFqXOyFY  ['That creepy smile', \"I ended 4 years relatio...\n",
       "2731  k7dmrSbCpy4  ['Finished all of ur shorts😂😂', '😊', 'Who came...\n",
       "2732  cffqyq-U2Og  [\"I'm that guy but I don't have any group\", 'W...\n",
       "2733  xxwNglca0Bo  ['I saw this today ❤', 'Like if your watching ...\n",
       "\n",
       "[2734 rows x 2 columns]"
      ]
     },
     "execution_count": 2,
     "metadata": {},
     "output_type": "execute_result"
    }
   ],
   "source": [
    "df=pd.read_csv('Data\\\\commentsData.csv')\n",
    "df"
   ]
  },
  {
   "cell_type": "code",
   "execution_count": 11,
   "metadata": {},
   "outputs": [
    {
     "data": {
      "text/plain": [
       "'[\\'30\\', \\'Yes, now this game looks cool!\\', \\'😊😊\\', \"Wow, I didn\\'t  know you played that aswel...\", \\'😙\\', \\'First comment after more then 24 hours\\', \\'Yooooooo Mr Beast played project zomboid!!!!!\\', \\'I LOVE PROJECT ZOMBOID NO WAY YOU PLAYED THIS ALL THESE YEARS AGO\\', \\'Zombie sorry zomboid\\', \\'why is this on my reccomended\\']'"
      ]
     },
     "execution_count": 11,
     "metadata": {},
     "output_type": "execute_result"
    }
   ],
   "source": [
    "df['comments'][1000]"
   ]
  }
 ],
 "metadata": {
  "kernelspec": {
   "display_name": "Python 3",
   "language": "python",
   "name": "python3"
  },
  "language_info": {
   "codemirror_mode": {
    "name": "ipython",
    "version": 3
   },
   "file_extension": ".py",
   "mimetype": "text/x-python",
   "name": "python",
   "nbconvert_exporter": "python",
   "pygments_lexer": "ipython3",
   "version": "3.11.9"
  }
 },
 "nbformat": 4,
 "nbformat_minor": 2
}
