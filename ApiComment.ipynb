{
 "cells": [
  {
   "cell_type": "code",
   "execution_count": null,
   "metadata": {},
   "outputs": [],
   "source": [
    "from googleapiclient.discovery import build\n",
    "import pandas as pd\n",
    "from IPython.display import JSON"
   ]
  },
  {
   "cell_type": "code",
   "execution_count": null,
   "metadata": {},
   "outputs": [],
   "source": [
    "api_key = input("Please enter your YouTube Data API key: ")
     channel_id='UCtAXJ4DNpshfVjLIMq9pIRw'
     youtube= build('youtube','v3',developerKey=api_key)"
   ]
  },
  {
   "cell_type": "code",
   "execution_count": null,
   "metadata": {},
   "outputs": [],
   "source": [
    "def get_channel(youtube, channel_id):\n",
    "    all_data = []\n",
    "    request = youtube.channels().list(\n",
    "        part='snippet,contentDetails,statistics',\n",
    "        id=channel_id\n",
    "    )\n",
    "    response = request.execute() \n",
    "    \n",
    "    # Check if 'items' key exists in the response\n",
    "    if 'items' in response:\n",
    "        for i in range(len(response['items'])):\n",
    "            data = dict(\n",
    "                channelName=response['items'][i]['snippet']['title'],\n",
    "                subscribers=response['items'][i]['statistics']['subscriberCount'],\n",
    "                views=response['items'][i]['statistics']['viewCount'],\n",
    "                totalVideos=response['items'][i]['statistics']['videoCount'],\n",
    "                playlistId=response['items'][i]['contentDetails']['relatedPlaylists']['uploads']\n",
    "            )\n",
    "            all_data.append(data)\n",
    "    else:\n",
    "        print(\"No 'items' found in response.\")\n",
    "    \n",
    "    return pd.DataFrame(all_data)\n",
    "\n"
   ]
  },
  {
   "cell_type": "code",
   "execution_count": null,
   "metadata": {},
   "outputs": [],
   "source": [
    "channel_stats=get_channel(youtube,channel_id)\n",
    "channel_stats"
   ]
  },
  {
   "cell_type": "code",
   "execution_count": null,
   "metadata": {},
   "outputs": [],
   "source": [
    "playlistid=channel_stats['playlistId']\n",
    "playlistid"
   ]
  },
  {
   "cell_type": "code",
   "execution_count": null,
   "metadata": {},
   "outputs": [],
   "source": [
    "def get_video_ids(youtube, playlist_id,video_ids):\n",
    "\n",
    "    request = youtube.playlistItems().list(\n",
    "                part='contentDetails',\n",
    "                playlistId = playlist_id,\n",
    "                maxResults = 50)\n",
    "    response = request.execute()\n",
    "    \n",
    "    \n",
    "    for i in range(len(response['items'])):\n",
    "        video_ids.append(response['items'][i]['contentDetails']['videoId'])\n",
    "        \n",
    "    next_page_token = response.get('nextPageToken')\n",
    "    more_pages = True\n",
    "    \n",
    "    while more_pages:\n",
    "        if next_page_token is None:\n",
    "            more_pages = False\n",
    "        else:\n",
    "            request = youtube.playlistItems().list(\n",
    "                        part='contentDetails',\n",
    "                        playlistId = playlist_id,\n",
    "                        maxResults = 50,\n",
    "                        pageToken = next_page_token)\n",
    "            response = request.execute()\n",
    "    \n",
    "            for i in range(len(response['items'])):\n",
    "                video_ids.append(response['items'][i]['contentDetails']['videoId'])\n",
    "            \n",
    "            next_page_token = response.get('nextPageToken')\n",
    "        \n",
    "    return video_ids"
   ]
  },
  {
   "cell_type": "code",
   "execution_count": null,
   "metadata": {},
   "outputs": [],
   "source": [
    "video_ids = []\n",
    "for i in range(len(playlistid)):\n",
    "    playlist_id=playlistid[i]\n",
    "    Video_ids=get_video_ids(youtube, playlist_id,video_ids)\n",
    "    \n",
    "len(Video_ids)"
   ]
  },
  {
   "cell_type": "code",
   "execution_count": null,
   "metadata": {},
   "outputs": [],
   "source": [
    "def get_comments_in_videos(youtube, video_ids):\n",
    "    all_comments = []\n",
    "    \n",
    "    for video_id in video_ids:\n",
    "        try:   \n",
    "            request = youtube.commentThreads().list(\n",
    "                part=\"snippet,replies\",\n",
    "                videoId=video_id\n",
    "            )\n",
    "            response = request.execute()\n",
    "        \n",
    "            comments_in_video = []\n",
    "            for comment in response['items']:\n",
    "                comment_text = comment['snippet']['topLevelComment']['snippet']['textOriginal']\n",
    "                commenter_name = comment['snippet']['topLevelComment']['snippet']['authorDisplayName']\n",
    "                comments_in_video.append({'comment': comment_text, 'author': commenter_name})\n",
    "            \n",
    "            comments_in_video_info = {'video_id': video_id, 'comments': comments_in_video}\n",
    "            all_comments.append({\n",
    "                    'SerialNumber': idx,\n",
    "                    'VideoID': video_id,\n",
    "                    'Username': commenter_name,\n",
    "                    'Comment': comment_text\n",
    "                })\n",
    "            \n",
    "        except Exception as e: \n",
    "            # When error occurs - most likely because comments are disabled on a video\n",
    "            print(f'Could not get comments for video {video_id}: {e}')\n",
    "        \n",
    "    return pd.DataFrame(all_comments)  \n",
    "\n",
    "comments = get_comments_in_videos(youtube, video_ids)\n",
    "comments\n"
   ]
  },
  {
   "cell_type": "code",
   "execution_count": null,
   "metadata": {},
   "outputs": [],
   "source": [
    "comments.to_csv('Data\\\\commentsData.csv', index=False)"
   ]
  }
 ],
 "metadata": {
  "kernelspec": {
   "display_name": "Python 3",
   "language": "python",
   "name": "python3"
  },
  "language_info": {
   "codemirror_mode": {
    "name": "ipython",
    "version": 3
   },
   "file_extension": ".py",
   "mimetype": "text/x-python",
   "name": "python",
   "nbconvert_exporter": "python",
   "pygments_lexer": "ipython3",
   "version": "3.11.9"
  }
 },
 "nbformat": 4,
 "nbformat_minor": 2
}
