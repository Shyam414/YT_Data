{
 "cells": [
  {
   "cell_type": "code",
   "execution_count": 53,
   "metadata": {},
   "outputs": [],
   "source": [
    "from googleapiclient.discovery import build\n",
    "import pandas as pd\n",
    "from IPython.display import JSON"
   ]
  },
  {
   "cell_type": "code",
   "execution_count": 54,
   "metadata": {},
   "outputs": [],
   "source": [
    "api_key = input(\"Please enter your YouTube Data API key: \")\n",
    "channel_id='UCtAXJ4DNpshfVjLIMq9pIRw'\n",
    "youtube= build('youtube','v3',developerKey=api_key)"
   ]
  },
  {
   "cell_type": "code",
   "execution_count": 55,
   "metadata": {},
   "outputs": [],
   "source": [
    "def get_channel(youtube, channel_id):\n",
    "    all_data = []\n",
    "    request = youtube.channels().list(\n",
    "        part='snippet,contentDetails,statistics',\n",
    "        id=channel_id\n",
    "    )\n",
    "    response = request.execute() \n",
    "    \n",
    "    # Check if 'items' key exists in the response\n",
    "    if 'items' in response:\n",
    "        for i in range(len(response['items'])):\n",
    "            data = dict(\n",
    "                channelName=response['items'][i]['snippet']['title'],\n",
    "                subscribers=response['items'][i]['statistics']['subscriberCount'],\n",
    "                views=response['items'][i]['statistics']['viewCount'],\n",
    "                totalVideos=response['items'][i]['statistics']['videoCount'],\n",
    "                playlistId=response['items'][i]['contentDetails']['relatedPlaylists']['uploads']\n",
    "            )\n",
    "            all_data.append(data)\n",
    "    else:\n",
    "        print(\"No 'items' found in response.\")\n",
    "    \n",
    "    return pd.DataFrame(all_data)\n",
    "\n"
   ]
  },
  {
   "cell_type": "code",
   "execution_count": 56,
   "metadata": {},
   "outputs": [
    {
     "data": {
      "text/html": [
       "<div>\n",
       "<style scoped>\n",
       "    .dataframe tbody tr th:only-of-type {\n",
       "        vertical-align: middle;\n",
       "    }\n",
       "\n",
       "    .dataframe tbody tr th {\n",
       "        vertical-align: top;\n",
       "    }\n",
       "\n",
       "    .dataframe thead th {\n",
       "        text-align: right;\n",
       "    }\n",
       "</style>\n",
       "<table border=\"1\" class=\"dataframe\">\n",
       "  <thead>\n",
       "    <tr style=\"text-align: right;\">\n",
       "      <th></th>\n",
       "      <th>channelName</th>\n",
       "      <th>subscribers</th>\n",
       "      <th>views</th>\n",
       "      <th>totalVideos</th>\n",
       "      <th>playlistId</th>\n",
       "    </tr>\n",
       "  </thead>\n",
       "  <tbody>\n",
       "    <tr>\n",
       "      <th>0</th>\n",
       "      <td>Rohit &amp; Kanupriya</td>\n",
       "      <td>2280000</td>\n",
       "      <td>2170605651</td>\n",
       "      <td>326</td>\n",
       "      <td>UUtAXJ4DNpshfVjLIMq9pIRw</td>\n",
       "    </tr>\n",
       "  </tbody>\n",
       "</table>\n",
       "</div>"
      ],
      "text/plain": [
       "         channelName subscribers       views totalVideos  \\\n",
       "0  Rohit & Kanupriya     2280000  2170605651         326   \n",
       "\n",
       "                 playlistId  \n",
       "0  UUtAXJ4DNpshfVjLIMq9pIRw  "
      ]
     },
     "execution_count": 56,
     "metadata": {},
     "output_type": "execute_result"
    }
   ],
   "source": [
    "channel_stats=get_channel(youtube,channel_id)\n",
    "channel_stats"
   ]
  },
  {
   "cell_type": "code",
   "execution_count": 57,
   "metadata": {},
   "outputs": [
    {
     "data": {
      "text/plain": [
       "0    UUtAXJ4DNpshfVjLIMq9pIRw\n",
       "Name: playlistId, dtype: object"
      ]
     },
     "execution_count": 57,
     "metadata": {},
     "output_type": "execute_result"
    }
   ],
   "source": [
    "playlistid=channel_stats['playlistId']\n",
    "playlistid"
   ]
  },
  {
   "cell_type": "code",
   "execution_count": 58,
   "metadata": {},
   "outputs": [],
   "source": [
    "def get_video_ids(youtube, playlist_id,video_ids):\n",
    "\n",
    "    request = youtube.playlistItems().list(\n",
    "                part='contentDetails',\n",
    "                playlistId = playlist_id,\n",
    "                maxResults = 50)\n",
    "    response = request.execute()\n",
    "    \n",
    "    \n",
    "    for i in range(len(response['items'])):\n",
    "        video_ids.append(response['items'][i]['contentDetails']['videoId'])\n",
    "        \n",
    "    next_page_token = response.get('nextPageToken')\n",
    "    more_pages = True\n",
    "    \n",
    "    while more_pages:\n",
    "        if next_page_token is None:\n",
    "            more_pages = False\n",
    "        else:\n",
    "            request = youtube.playlistItems().list(\n",
    "                        part='contentDetails',\n",
    "                        playlistId = playlist_id,\n",
    "                        maxResults = 50,\n",
    "                        pageToken = next_page_token)\n",
    "            response = request.execute()\n",
    "    \n",
    "            for i in range(len(response['items'])):\n",
    "                video_ids.append(response['items'][i]['contentDetails']['videoId'])\n",
    "            \n",
    "            next_page_token = response.get('nextPageToken')\n",
    "        \n",
    "    return video_ids"
   ]
  },
  {
   "cell_type": "code",
   "execution_count": 59,
   "metadata": {},
   "outputs": [
    {
     "data": {
      "text/plain": [
       "326"
      ]
     },
     "execution_count": 59,
     "metadata": {},
     "output_type": "execute_result"
    }
   ],
   "source": [
    "video_ids = []\n",
    "for i in range(len(playlistid)):\n",
    "    playlist_id=playlistid[i]\n",
    "    Video_ids=get_video_ids(youtube, playlist_id,video_ids)\n",
    "    \n",
    "len(Video_ids)"
   ]
  },
  {
   "cell_type": "code",
   "execution_count": 70,
   "metadata": {},
   "outputs": [],
   "source": [
    "def get_comments_in_videos(youtube, video_ids):\n",
    "    all_comments = []\n",
    "\n",
    "    for video_id in video_ids:\n",
    "        try:   \n",
    "            request = youtube.commentThreads().list(\n",
    "                part=\"snippet,replies\",\n",
    "                videoId=video_id,\n",
    "            )\n",
    "            response = request.execute()\n",
    "        \n",
    "            for comment in response['items']:\n",
    "                data = {\n",
    "                    'videoId': video_id,\n",
    "                    'commenter_name': comment['snippet']['topLevelComment']['snippet']['authorDisplayName'],        \n",
    "                    'comments': comment['snippet']['topLevelComment']['snippet']['textOriginal'],\n",
    "                    'commentProfileImageUrl': comment['snippet']['topLevelComment']['snippet']['authorProfileImageUrl']\n",
    "                }\n",
    "                all_comments.append(data)\n",
    "                \n",
    "                # Add replies\n",
    "               \n",
    "\n",
    "        except Exception as e: \n",
    "            # When an error occurs - most likely because comments are disabled on a video\n",
    "            print(f'Could not get comments for video {video_id}: {e}')\n",
    "        \n",
    "    return pd.DataFrame(all_comments)\n"
   ]
  },
  {
   "cell_type": "code",
   "execution_count": 71,
   "metadata": {},
   "outputs": [
    {
     "data": {
      "text/html": [
       "<div>\n",
       "<style scoped>\n",
       "    .dataframe tbody tr th:only-of-type {\n",
       "        vertical-align: middle;\n",
       "    }\n",
       "\n",
       "    .dataframe tbody tr th {\n",
       "        vertical-align: top;\n",
       "    }\n",
       "\n",
       "    .dataframe thead th {\n",
       "        text-align: right;\n",
       "    }\n",
       "</style>\n",
       "<table border=\"1\" class=\"dataframe\">\n",
       "  <thead>\n",
       "    <tr style=\"text-align: right;\">\n",
       "      <th></th>\n",
       "      <th>videoId</th>\n",
       "      <th>commenter_name</th>\n",
       "      <th>comments</th>\n",
       "      <th>commentProfileImageUrl</th>\n",
       "    </tr>\n",
       "  </thead>\n",
       "  <tbody>\n",
       "    <tr>\n",
       "      <th>0</th>\n",
       "      <td>yXoqz_GOJxw</td>\n",
       "      <td>@RohitandKanu</td>\n",
       "      <td>Pehla Nasha, Pehla Scam!! 😂🤣 Do subscribe if y...</td>\n",
       "      <td>https://yt3.ggpht.com/ciKJQ6_fiiQU3caIT8GWU1-5...</td>\n",
       "    </tr>\n",
       "    <tr>\n",
       "      <th>1</th>\n",
       "      <td>yXoqz_GOJxw</td>\n",
       "      <td>@MAkInspirational</td>\n",
       "      <td>Behen dikki khuli hi chhor di😂😂😂😂</td>\n",
       "      <td>https://yt3.ggpht.com/ytc/AIdro_l9hYEqOSgKMxnK...</td>\n",
       "    </tr>\n",
       "    <tr>\n",
       "      <th>2</th>\n",
       "      <td>yXoqz_GOJxw</td>\n",
       "      <td>@keerthichandra376</td>\n",
       "      <td>I thought she'll tip him in the end and say th...</td>\n",
       "      <td>https://yt3.ggpht.com/ytc/AIdro_mbubIy_N4p_KSr...</td>\n",
       "    </tr>\n",
       "    <tr>\n",
       "      <th>3</th>\n",
       "      <td>yXoqz_GOJxw</td>\n",
       "      <td>@oppooppo-ol6ig</td>\n",
       "      <td>But where is hot guy ?? 🤡</td>\n",
       "      <td>https://yt3.ggpht.com/ytc/AIdro_mty4LOIvUzXpPr...</td>\n",
       "    </tr>\n",
       "    <tr>\n",
       "      <th>4</th>\n",
       "      <td>yXoqz_GOJxw</td>\n",
       "      <td>@l46565</td>\n",
       "      <td>Why did the acting start even before seeing hi...</td>\n",
       "      <td>https://yt3.ggpht.com/ytc/AIdro_m1mcPKiKrq_FPI...</td>\n",
       "    </tr>\n",
       "    <tr>\n",
       "      <th>...</th>\n",
       "      <td>...</td>\n",
       "      <td>...</td>\n",
       "      <td>...</td>\n",
       "      <td>...</td>\n",
       "    </tr>\n",
       "    <tr>\n",
       "      <th>6356</th>\n",
       "      <td>xxwNglca0Bo</td>\n",
       "      <td>@dmcindianfan5374</td>\n",
       "      <td>Just went back 10 years ago 😂😅</td>\n",
       "      <td>https://yt3.ggpht.com/Q8dsv0uzwkxGyb8JG9uUoF5L...</td>\n",
       "    </tr>\n",
       "    <tr>\n",
       "      <th>6357</th>\n",
       "      <td>xxwNglca0Bo</td>\n",
       "      <td>@coolbreeze1262</td>\n",
       "      <td>Is the record still to her ? ❤</td>\n",
       "      <td>https://yt3.ggpht.com/ytc/AIdro_k2MBvG9XLwRN9I...</td>\n",
       "    </tr>\n",
       "    <tr>\n",
       "      <th>6358</th>\n",
       "      <td>xxwNglca0Bo</td>\n",
       "      <td>@Notebook-ur1st</td>\n",
       "      <td>Wow!! She looks different 😳 \\nI follow them fo...</td>\n",
       "      <td>https://yt3.ggpht.com/oKSbB0Ayy5knZP0XLiLEStDe...</td>\n",
       "    </tr>\n",
       "    <tr>\n",
       "      <th>6359</th>\n",
       "      <td>xxwNglca0Bo</td>\n",
       "      <td>@Prathikraj_mysorean</td>\n",
       "      <td>one can see Rohit's Journey 😂</td>\n",
       "      <td>https://yt3.ggpht.com/D7jURbUnRQ-rWwSYl8YLWMPL...</td>\n",
       "    </tr>\n",
       "    <tr>\n",
       "      <th>6360</th>\n",
       "      <td>xxwNglca0Bo</td>\n",
       "      <td>@Neeharika-M</td>\n",
       "      <td>U started a channel ten years ago...omg u r so...</td>\n",
       "      <td>https://yt3.ggpht.com/ytc/AIdro_kFgGxM3aDBe2sj...</td>\n",
       "    </tr>\n",
       "  </tbody>\n",
       "</table>\n",
       "<p>6361 rows × 4 columns</p>\n",
       "</div>"
      ],
      "text/plain": [
       "          videoId        commenter_name  \\\n",
       "0     yXoqz_GOJxw         @RohitandKanu   \n",
       "1     yXoqz_GOJxw     @MAkInspirational   \n",
       "2     yXoqz_GOJxw    @keerthichandra376   \n",
       "3     yXoqz_GOJxw       @oppooppo-ol6ig   \n",
       "4     yXoqz_GOJxw               @l46565   \n",
       "...           ...                   ...   \n",
       "6356  xxwNglca0Bo     @dmcindianfan5374   \n",
       "6357  xxwNglca0Bo       @coolbreeze1262   \n",
       "6358  xxwNglca0Bo       @Notebook-ur1st   \n",
       "6359  xxwNglca0Bo  @Prathikraj_mysorean   \n",
       "6360  xxwNglca0Bo          @Neeharika-M   \n",
       "\n",
       "                                               comments  \\\n",
       "0     Pehla Nasha, Pehla Scam!! 😂🤣 Do subscribe if y...   \n",
       "1                     Behen dikki khuli hi chhor di😂😂😂😂   \n",
       "2     I thought she'll tip him in the end and say th...   \n",
       "3                             But where is hot guy ?? 🤡   \n",
       "4     Why did the acting start even before seeing hi...   \n",
       "...                                                 ...   \n",
       "6356                     Just went back 10 years ago 😂😅   \n",
       "6357                     Is the record still to her ? ❤   \n",
       "6358  Wow!! She looks different 😳 \\nI follow them fo...   \n",
       "6359                      one can see Rohit's Journey 😂   \n",
       "6360  U started a channel ten years ago...omg u r so...   \n",
       "\n",
       "                                 commentProfileImageUrl  \n",
       "0     https://yt3.ggpht.com/ciKJQ6_fiiQU3caIT8GWU1-5...  \n",
       "1     https://yt3.ggpht.com/ytc/AIdro_l9hYEqOSgKMxnK...  \n",
       "2     https://yt3.ggpht.com/ytc/AIdro_mbubIy_N4p_KSr...  \n",
       "3     https://yt3.ggpht.com/ytc/AIdro_mty4LOIvUzXpPr...  \n",
       "4     https://yt3.ggpht.com/ytc/AIdro_m1mcPKiKrq_FPI...  \n",
       "...                                                 ...  \n",
       "6356  https://yt3.ggpht.com/Q8dsv0uzwkxGyb8JG9uUoF5L...  \n",
       "6357  https://yt3.ggpht.com/ytc/AIdro_k2MBvG9XLwRN9I...  \n",
       "6358  https://yt3.ggpht.com/oKSbB0Ayy5knZP0XLiLEStDe...  \n",
       "6359  https://yt3.ggpht.com/D7jURbUnRQ-rWwSYl8YLWMPL...  \n",
       "6360  https://yt3.ggpht.com/ytc/AIdro_kFgGxM3aDBe2sj...  \n",
       "\n",
       "[6361 rows x 4 columns]"
      ]
     },
     "execution_count": 71,
     "metadata": {},
     "output_type": "execute_result"
    }
   ],
   "source": [
    "comments = get_comments_in_videos(youtube, video_ids)\n",
    "comments"
   ]
  },
  {
   "cell_type": "code",
   "execution_count": 72,
   "metadata": {},
   "outputs": [],
   "source": [
    "comments.to_csv('Data\\\\commentsData.csv', index=False)"
   ]
  }
 ],
 "metadata": {
  "kernelspec": {
   "display_name": "Python 3",
   "language": "python",
   "name": "python3"
  },
  "language_info": {
   "codemirror_mode": {
    "name": "ipython",
    "version": 3
   },
   "file_extension": ".py",
   "mimetype": "text/x-python",
   "name": "python",
   "nbconvert_exporter": "python",
   "pygments_lexer": "ipython3",
   "version": "3.11.9"
  }
 },
 "nbformat": 4,
 "nbformat_minor": 2
}
