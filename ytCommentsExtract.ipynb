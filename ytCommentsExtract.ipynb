{
 "cells": [
  {
   "cell_type": "code",
   "execution_count": 11,
   "metadata": {},
   "outputs": [],
   "source": [
    "from googleapiclient.discovery import build\n",
    "import pandas as pd\n",
    "from IPython.display import JSON"
   ]
  },
  {
   "cell_type": "code",
   "execution_count": 12,
   "metadata": {},
   "outputs": [],
   "source": [
    "api_key = input(\"Please enter your YouTube Data API key: \")\n",
    "channel_id='UCtAXJ4DNpshfVjLIMq9pIRw'\n",
    "youtube= build('youtube','v3',developerKey=api_key)"
   ]
  },
  {
   "cell_type": "code",
   "execution_count": 13,
   "metadata": {},
   "outputs": [],
   "source": [
    "def get_channel(youtube, channel_id):\n",
    "    all_data = []\n",
    "    request = youtube.channels().list(\n",
    "        part='snippet,contentDetails,statistics',\n",
    "        id=channel_id\n",
    "    )\n",
    "    response = request.execute() \n",
    "    \n",
    "    # Check if 'items' key exists in the response\n",
    "    if 'items' in response:\n",
    "        for i in range(len(response['items'])):\n",
    "            data = dict(\n",
    "                channelName=response['items'][i]['snippet']['title'],\n",
    "                subscribers=response['items'][i]['statistics']['subscriberCount'],\n",
    "                views=response['items'][i]['statistics']['viewCount'],\n",
    "                totalVideos=response['items'][i]['statistics']['videoCount'],\n",
    "                playlistId=response['items'][i]['contentDetails']['relatedPlaylists']['uploads']\n",
    "            )\n",
    "            all_data.append(data)\n",
    "    else:\n",
    "        print(\"No 'items' found in response.\")\n",
    "    \n",
    "    return pd.DataFrame(all_data)\n",
    "\n"
   ]
  },
  {
   "cell_type": "code",
   "execution_count": 14,
   "metadata": {},
   "outputs": [
    {
     "data": {
      "text/html": [
       "<div>\n",
       "<style scoped>\n",
       "    .dataframe tbody tr th:only-of-type {\n",
       "        vertical-align: middle;\n",
       "    }\n",
       "\n",
       "    .dataframe tbody tr th {\n",
       "        vertical-align: top;\n",
       "    }\n",
       "\n",
       "    .dataframe thead th {\n",
       "        text-align: right;\n",
       "    }\n",
       "</style>\n",
       "<table border=\"1\" class=\"dataframe\">\n",
       "  <thead>\n",
       "    <tr style=\"text-align: right;\">\n",
       "      <th></th>\n",
       "      <th>channelName</th>\n",
       "      <th>subscribers</th>\n",
       "      <th>views</th>\n",
       "      <th>totalVideos</th>\n",
       "      <th>playlistId</th>\n",
       "    </tr>\n",
       "  </thead>\n",
       "  <tbody>\n",
       "    <tr>\n",
       "      <th>0</th>\n",
       "      <td>Rohit &amp; Kanupriya</td>\n",
       "      <td>2290000</td>\n",
       "      <td>2181237212</td>\n",
       "      <td>329</td>\n",
       "      <td>UUtAXJ4DNpshfVjLIMq9pIRw</td>\n",
       "    </tr>\n",
       "  </tbody>\n",
       "</table>\n",
       "</div>"
      ],
      "text/plain": [
       "         channelName subscribers       views totalVideos  \\\n",
       "0  Rohit & Kanupriya     2290000  2181237212         329   \n",
       "\n",
       "                 playlistId  \n",
       "0  UUtAXJ4DNpshfVjLIMq9pIRw  "
      ]
     },
     "execution_count": 14,
     "metadata": {},
     "output_type": "execute_result"
    }
   ],
   "source": [
    "channel_stats=get_channel(youtube,channel_id)\n",
    "channel_stats"
   ]
  },
  {
   "cell_type": "code",
   "execution_count": 15,
   "metadata": {},
   "outputs": [
    {
     "data": {
      "text/plain": [
       "0    UUtAXJ4DNpshfVjLIMq9pIRw\n",
       "Name: playlistId, dtype: object"
      ]
     },
     "execution_count": 15,
     "metadata": {},
     "output_type": "execute_result"
    }
   ],
   "source": [
    "playlistid=channel_stats['playlistId']\n",
    "playlistid"
   ]
  },
  {
   "cell_type": "code",
   "execution_count": 16,
   "metadata": {},
   "outputs": [],
   "source": [
    "def get_video_ids(youtube, playlist_id,video_ids):\n",
    "\n",
    "    request = youtube.playlistItems().list(\n",
    "                part='contentDetails',\n",
    "                playlistId = playlist_id,\n",
    "                maxResults = 50)\n",
    "    response = request.execute()\n",
    "    \n",
    "    \n",
    "    for i in range(len(response['items'])):\n",
    "        video_ids.append(response['items'][i]['contentDetails']['videoId'])\n",
    "        \n",
    "    next_page_token = response.get('nextPageToken')\n",
    "    more_pages = True\n",
    "    \n",
    "    while more_pages:\n",
    "        if next_page_token is None:\n",
    "            more_pages = False\n",
    "        else:\n",
    "            request = youtube.playlistItems().list(\n",
    "                        part='contentDetails',\n",
    "                        playlistId = playlist_id,\n",
    "                        maxResults = 50,\n",
    "                        pageToken = next_page_token)\n",
    "            response = request.execute()\n",
    "    \n",
    "            for i in range(len(response['items'])):\n",
    "                video_ids.append(response['items'][i]['contentDetails']['videoId'])\n",
    "            \n",
    "            next_page_token = response.get('nextPageToken')\n",
    "        \n",
    "    return video_ids"
   ]
  },
  {
   "cell_type": "code",
   "execution_count": 17,
   "metadata": {},
   "outputs": [
    {
     "data": {
      "text/plain": [
       "329"
      ]
     },
     "execution_count": 17,
     "metadata": {},
     "output_type": "execute_result"
    }
   ],
   "source": [
    "video_ids = []\n",
    "for i in range(len(playlistid)):\n",
    "    playlist_id=playlistid[i]\n",
    "    Video_ids=get_video_ids(youtube, playlist_id,video_ids)\n",
    "    \n",
    "len(Video_ids)"
   ]
  },
  {
   "cell_type": "code",
   "execution_count": 18,
   "metadata": {},
   "outputs": [],
   "source": [
    "def get_comments_in_videos(youtube, video_ids):\n",
    "    all_comments = []\n",
    "\n",
    "    for video_id in video_ids:\n",
    "        try:   \n",
    "            request = youtube.commentThreads().list(\n",
    "                part=\"snippet,replies\",\n",
    "                videoId=video_id,\n",
    "            )\n",
    "            response = request.execute()\n",
    "        \n",
    "            for comment in response['items']:\n",
    "                data = {\n",
    "                    'videoId': video_id,\n",
    "                    'commenter_name': comment['snippet']['topLevelComment']['snippet']['authorDisplayName'],        \n",
    "                    'comments': comment['snippet']['topLevelComment']['snippet']['textOriginal'],\n",
    "                    'commentProfileImageUrl': comment['snippet']['topLevelComment']['snippet']['authorProfileImageUrl']\n",
    "                }\n",
    "                all_comments.append(data)\n",
    "                \n",
    "                # Add replies\n",
    "               \n",
    "\n",
    "        except Exception as e: \n",
    "            # When an error occurs - most likely because comments are disabled on a video\n",
    "            print(f'Could not get comments for video {video_id}: {e}')\n",
    "        \n",
    "    return pd.DataFrame(all_comments)\n"
   ]
  },
  {
   "cell_type": "code",
   "execution_count": 19,
   "metadata": {},
   "outputs": [
    {
     "data": {
      "text/html": [
       "<div>\n",
       "<style scoped>\n",
       "    .dataframe tbody tr th:only-of-type {\n",
       "        vertical-align: middle;\n",
       "    }\n",
       "\n",
       "    .dataframe tbody tr th {\n",
       "        vertical-align: top;\n",
       "    }\n",
       "\n",
       "    .dataframe thead th {\n",
       "        text-align: right;\n",
       "    }\n",
       "</style>\n",
       "<table border=\"1\" class=\"dataframe\">\n",
       "  <thead>\n",
       "    <tr style=\"text-align: right;\">\n",
       "      <th></th>\n",
       "      <th>videoId</th>\n",
       "      <th>commenter_name</th>\n",
       "      <th>comments</th>\n",
       "      <th>commentProfileImageUrl</th>\n",
       "    </tr>\n",
       "  </thead>\n",
       "  <tbody>\n",
       "    <tr>\n",
       "      <th>0</th>\n",
       "      <td>JXvx90MmuG8</td>\n",
       "      <td>@RohitandKanu</td>\n",
       "      <td>Do let me know if you guys would like me to go...</td>\n",
       "      <td>https://yt3.ggpht.com/ciKJQ6_fiiQU3caIT8GWU1-5...</td>\n",
       "    </tr>\n",
       "    <tr>\n",
       "      <th>1</th>\n",
       "      <td>JXvx90MmuG8</td>\n",
       "      <td>@anshuman5331</td>\n",
       "      <td>Drinking Cold water is the cure.\\nBath 2 times...</td>\n",
       "      <td>https://yt3.ggpht.com/ytc/AIdro_mFHc65ZAwKKP2r...</td>\n",
       "    </tr>\n",
       "    <tr>\n",
       "      <th>2</th>\n",
       "      <td>JXvx90MmuG8</td>\n",
       "      <td>@sathwiktalents</td>\n",
       "      <td>Bro\\nI've been working on music and video edit...</td>\n",
       "      <td>https://yt3.ggpht.com/Kl5aW5w9Q2QhGkflaVdpZpcS...</td>\n",
       "    </tr>\n",
       "    <tr>\n",
       "      <th>3</th>\n",
       "      <td>JXvx90MmuG8</td>\n",
       "      <td>@sharma-rx7vg</td>\n",
       "      <td>Wow❤❤❤take care of yourself because we need u ...</td>\n",
       "      <td>https://yt3.ggpht.com/ytc/AIdro_lu2GvO15oLoFqt...</td>\n",
       "    </tr>\n",
       "    <tr>\n",
       "      <th>4</th>\n",
       "      <td>JXvx90MmuG8</td>\n",
       "      <td>@abhishekhawk2762</td>\n",
       "      <td>@28:00 Real men don't need manual❌ Wise men do...</td>\n",
       "      <td>https://yt3.ggpht.com/ytc/AIdro_mSWXlwJm2HPlDb...</td>\n",
       "    </tr>\n",
       "    <tr>\n",
       "      <th>...</th>\n",
       "      <td>...</td>\n",
       "      <td>...</td>\n",
       "      <td>...</td>\n",
       "      <td>...</td>\n",
       "    </tr>\n",
       "    <tr>\n",
       "      <th>6416</th>\n",
       "      <td>xxwNglca0Bo</td>\n",
       "      <td>@dmcindianfan5374</td>\n",
       "      <td>Just went back 10 years ago 😂😅</td>\n",
       "      <td>https://yt3.ggpht.com/Q8dsv0uzwkxGyb8JG9uUoF5L...</td>\n",
       "    </tr>\n",
       "    <tr>\n",
       "      <th>6417</th>\n",
       "      <td>xxwNglca0Bo</td>\n",
       "      <td>@coolbreeze1262</td>\n",
       "      <td>Is the record still to her ? ❤</td>\n",
       "      <td>https://yt3.ggpht.com/ytc/AIdro_k2MBvG9XLwRN9I...</td>\n",
       "    </tr>\n",
       "    <tr>\n",
       "      <th>6418</th>\n",
       "      <td>xxwNglca0Bo</td>\n",
       "      <td>@Notebook-ur1st</td>\n",
       "      <td>Wow!! She looks different 😳 \\nI follow them fo...</td>\n",
       "      <td>https://yt3.ggpht.com/oKSbB0Ayy5knZP0XLiLEStDe...</td>\n",
       "    </tr>\n",
       "    <tr>\n",
       "      <th>6419</th>\n",
       "      <td>xxwNglca0Bo</td>\n",
       "      <td>@Prathikraj_mysorean</td>\n",
       "      <td>one can see Rohit's Journey 😂</td>\n",
       "      <td>https://yt3.ggpht.com/D7jURbUnRQ-rWwSYl8YLWMPL...</td>\n",
       "    </tr>\n",
       "    <tr>\n",
       "      <th>6420</th>\n",
       "      <td>xxwNglca0Bo</td>\n",
       "      <td>@Neeharika-M</td>\n",
       "      <td>U started a channel ten years ago...omg u r so...</td>\n",
       "      <td>https://yt3.ggpht.com/ytc/AIdro_kFgGxM3aDBe2sj...</td>\n",
       "    </tr>\n",
       "  </tbody>\n",
       "</table>\n",
       "<p>6421 rows × 4 columns</p>\n",
       "</div>"
      ],
      "text/plain": [
       "          videoId        commenter_name  \\\n",
       "0     JXvx90MmuG8         @RohitandKanu   \n",
       "1     JXvx90MmuG8         @anshuman5331   \n",
       "2     JXvx90MmuG8       @sathwiktalents   \n",
       "3     JXvx90MmuG8         @sharma-rx7vg   \n",
       "4     JXvx90MmuG8     @abhishekhawk2762   \n",
       "...           ...                   ...   \n",
       "6416  xxwNglca0Bo     @dmcindianfan5374   \n",
       "6417  xxwNglca0Bo       @coolbreeze1262   \n",
       "6418  xxwNglca0Bo       @Notebook-ur1st   \n",
       "6419  xxwNglca0Bo  @Prathikraj_mysorean   \n",
       "6420  xxwNglca0Bo          @Neeharika-M   \n",
       "\n",
       "                                               comments  \\\n",
       "0     Do let me know if you guys would like me to go...   \n",
       "1     Drinking Cold water is the cure.\\nBath 2 times...   \n",
       "2     Bro\\nI've been working on music and video edit...   \n",
       "3     Wow❤❤❤take care of yourself because we need u ...   \n",
       "4     @28:00 Real men don't need manual❌ Wise men do...   \n",
       "...                                                 ...   \n",
       "6416                     Just went back 10 years ago 😂😅   \n",
       "6417                     Is the record still to her ? ❤   \n",
       "6418  Wow!! She looks different 😳 \\nI follow them fo...   \n",
       "6419                      one can see Rohit's Journey 😂   \n",
       "6420  U started a channel ten years ago...omg u r so...   \n",
       "\n",
       "                                 commentProfileImageUrl  \n",
       "0     https://yt3.ggpht.com/ciKJQ6_fiiQU3caIT8GWU1-5...  \n",
       "1     https://yt3.ggpht.com/ytc/AIdro_mFHc65ZAwKKP2r...  \n",
       "2     https://yt3.ggpht.com/Kl5aW5w9Q2QhGkflaVdpZpcS...  \n",
       "3     https://yt3.ggpht.com/ytc/AIdro_lu2GvO15oLoFqt...  \n",
       "4     https://yt3.ggpht.com/ytc/AIdro_mSWXlwJm2HPlDb...  \n",
       "...                                                 ...  \n",
       "6416  https://yt3.ggpht.com/Q8dsv0uzwkxGyb8JG9uUoF5L...  \n",
       "6417  https://yt3.ggpht.com/ytc/AIdro_k2MBvG9XLwRN9I...  \n",
       "6418  https://yt3.ggpht.com/oKSbB0Ayy5knZP0XLiLEStDe...  \n",
       "6419  https://yt3.ggpht.com/D7jURbUnRQ-rWwSYl8YLWMPL...  \n",
       "6420  https://yt3.ggpht.com/ytc/AIdro_kFgGxM3aDBe2sj...  \n",
       "\n",
       "[6421 rows x 4 columns]"
      ]
     },
     "execution_count": 19,
     "metadata": {},
     "output_type": "execute_result"
    }
   ],
   "source": [
    "comments = get_comments_in_videos(youtube, video_ids)\n",
    "comments"
   ]
  },
  {
   "cell_type": "code",
   "execution_count": 20,
   "metadata": {},
   "outputs": [],
   "source": [
    "comments.to_csv('Data\\\\commentsData.csv', index=False)"
   ]
  }
 ],
 "metadata": {
  "kernelspec": {
   "display_name": "Python 3",
   "language": "python",
   "name": "python3"
  },
  "language_info": {
   "codemirror_mode": {
    "name": "ipython",
    "version": 3
   },
   "file_extension": ".py",
   "mimetype": "text/x-python",
   "name": "python",
   "nbconvert_exporter": "python",
   "pygments_lexer": "ipython3",
   "version": "3.11.9"
  }
 },
 "nbformat": 4,
 "nbformat_minor": 2
}
