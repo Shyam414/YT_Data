{
 "cells": [
  {
   "cell_type": "code",
   "execution_count": null,
   "id": "16e4352b-9e66-4e68-8b85-9c0a69ab908a",
   "metadata": {},
   "outputs": [],
   "source": [
    "from googleapiclient.discovery import build\n",
    "import pandas as pd\n",
    "from IPython.display import JSON"
   ]
  },
  {
   "cell_type": "code",
   "execution_count": null,
   "id": "1a2c6df6",
   "metadata": {},
   "outputs": [],
   "source": [
    "api_key = input(\"Please enter your YouTube Data API key: \")\n",
    "channel_ids=['UCX6OQ3DkcsbYNE6H8uQQuVA',\n",
    "             'UCChmJrVa8kDg05JfCmxpLRw',\n",
    "             'UCkX0NXCP9kCLtk30kjTXIWg',\n",
    "             'UCXqJrBG563pZnaqLoxHjUDg',\n",
    "             'UCHoLIMtg_OigNlJmjHX9J8Q',\n",
    "             'UCMOLiZpKXp-w5CNfqJObQUw',\n",
    "             'UCtAXJ4DNpshfVjLIMq9pIRw']\n",
    "\n",
    "youtube= build('youtube','v3',developerKey=api_key)"
   ]
  },
  {
   "cell_type": "code",
   "execution_count": null,
   "id": "a94da783",
   "metadata": {},
   "outputs": [],
   "source": [
    "def get_channel(youtube,channel_ids):\n",
    "    \n",
    "    all_data = []\n",
    "    request = youtube.channels().list(\n",
    "                part='snippet,contentDetails,statistics',\n",
    "                id=','.join(channel_ids)\n",
    "                )\n",
    "    response = request.execute() \n",
    "    \n",
    "\n",
    "    for i in range(len(response['items'])):\n",
    "        data = dict(channelName = response['items'][i]['snippet']['title'],\n",
    "                    subscribers = response['items'][i]['statistics']['subscriberCount'],\n",
    "                    views = response['items'][i]['statistics']['viewCount'],\n",
    "                    totalVideos = response['items'][i]['statistics']['videoCount'],\n",
    "                    playlistId = response['items'][i]['contentDetails']['relatedPlaylists']['uploads'])\n",
    "        all_data.append(data)\n",
    "    \n",
    "    return pd.DataFrame(all_data)\n",
    "\n",
    "\n"
   ]
  },
  {
   "cell_type": "code",
   "execution_count": null,
   "id": "74520f80",
   "metadata": {},
   "outputs": [],
   "source": [
    "channel_stats=get_channel(youtube,channel_ids)\n",
    "channel_stats"
   ]
  },
  {
   "cell_type": "code",
   "execution_count": null,
   "id": "0b4469ed",
   "metadata": {},
   "outputs": [],
   "source": [
    "playlistid=channel_stats['playlistId']\n",
    "playlistid"
   ]
  },
  {
   "cell_type": "code",
   "execution_count": null,
   "id": "efbd56cd",
   "metadata": {},
   "outputs": [],
   "source": [
    "def get_video_ids(youtube, playlist_id,video_ids):\n",
    "\n",
    "    request = youtube.playlistItems().list(\n",
    "                part='contentDetails',\n",
    "                playlistId = playlist_id,\n",
    "                maxResults = 50)\n",
    "    response = request.execute()\n",
    "    \n",
    "    \n",
    "    for i in range(len(response['items'])):\n",
    "        video_ids.append(response['items'][i]['contentDetails']['videoId'])\n",
    "        \n",
    "    next_page_token = response.get('nextPageToken')\n",
    "    more_pages = True\n",
    "    \n",
    "    while more_pages:\n",
    "        if next_page_token is None:\n",
    "            more_pages = False\n",
    "        else:\n",
    "            request = youtube.playlistItems().list(\n",
    "                        part='contentDetails',\n",
    "                        playlistId = playlist_id,\n",
    "                        maxResults = 50,\n",
    "                        pageToken = next_page_token)\n",
    "            response = request.execute()\n",
    "    \n",
    "            for i in range(len(response['items'])):\n",
    "                video_ids.append(response['items'][i]['contentDetails']['videoId'])\n",
    "            \n",
    "            next_page_token = response.get('nextPageToken')\n",
    "        \n",
    "    return video_ids\n"
   ]
  },
  {
   "cell_type": "code",
   "execution_count": null,
   "id": "1a6ec5b1",
   "metadata": {},
   "outputs": [],
   "source": [
    "video_ids = []\n",
    "for i in range(len(playlistid)):\n",
    "    playlist_id=playlistid[i]\n",
    "    Video_ids=get_video_ids(youtube, playlist_id,video_ids)\n",
    "    \n",
    "\n",
    "len(Video_ids)"
   ]
  },
  {
   "cell_type": "code",
   "execution_count": null,
   "id": "31c78ac4",
   "metadata": {},
   "outputs": [],
   "source": [
    "def get_video_details(youtube, video_ids):    \n",
    "    all_video_info = []\n",
    "    \n",
    "    for i in range(0, len(video_ids), 50):\n",
    "        request = youtube.videos().list(\n",
    "            part=\"snippet,contentDetails,statistics\",\n",
    "            id=','.join(video_ids[i:i+50])\n",
    "        )\n",
    "        response = request.execute() \n",
    "\n",
    "        for video in response['items']:\n",
    "            stats_to_keep = {'snippet': ['channelTitle', 'title', 'description', 'tags', 'publishedAt'],\n",
    "                             'statistics': ['viewCount', 'likeCount', 'favouriteCount', 'commentCount'],\n",
    "                             'contentDetails': ['duration', 'definition', 'caption']\n",
    "                            }\n",
    "            video_info = {}\n",
    "            video_info['video_id'] = video['id']\n",
    "\n",
    "            for k in stats_to_keep.keys():\n",
    "                for v in stats_to_keep[k]:\n",
    "                    try:\n",
    "                        video_info[v] = video[k][v]\n",
    "                    except:\n",
    "                        video_info[v] = None\n",
    "\n",
    "            all_video_info.append(video_info)\n",
    "            \n",
    "    return pd.DataFrame(all_video_info)"
   ]
  },
  {
   "cell_type": "code",
   "execution_count": null,
   "id": "261a4b8e",
   "metadata": {},
   "outputs": [],
   "source": [
    "videoDetails=get_video_details(youtube, Video_ids)\n",
    "videoDetails"
   ]
  },
  {
   "cell_type": "code",
   "execution_count": null,
   "id": "f37a55ab",
   "metadata": {},
   "outputs": [],
   "source": [
    "\n",
    "def get_comments_in_videos(youtube, video_ids):\n",
    "    all_comments = []\n",
    "    \n",
    "    for video_id in video_ids:\n",
    "        try:   \n",
    "            request = youtube.commentThreads().list(\n",
    "                part=\"snippet,replies\",\n",
    "                videoId=video_id\n",
    "            )\n",
    "            response = request.execute()\n",
    "        \n",
    "            comments_in_video = [comment['snippet']['topLevelComment']['snippet']['textOriginal'] for comment in response['items'][0:10]]\n",
    "            comments_in_video_info = {'video_id': video_id, 'comments': comments_in_video}\n",
    "\n",
    "            all_comments.append(comments_in_video_info)\n",
    "            \n",
    "        except: \n",
    "            # When error occurs - most likely because comments are disabled on a video\n",
    "            print('Could not get comments for video ' + video_id)\n",
    "        \n",
    "    return pd.DataFrame(all_comments)  \n",
    "\n",
    "comments=get_comments_in_videos(youtube, Video_ids)\n",
    "comments"
   ]
  },
  {
   "cell_type": "code",
   "execution_count": null,
   "id": "582170c3",
   "metadata": {},
   "outputs": [],
   "source": [
    "videoDetails.to_csv('Data\\\\apiData.csv', index=False)\n",
    "comments.to_csv('Data\\\\commentsData.csv', index=False)"
   ]
  }
 ],
 "metadata": {
  "kernelspec": {
   "display_name": "Python 3 (ipykernel)",
   "language": "python",
   "name": "python3"
  },
  "language_info": {
   "codemirror_mode": {
    "name": "ipython",
    "version": 3
   },
   "file_extension": ".py",
   "mimetype": "text/x-python",
   "name": "python",
   "nbconvert_exporter": "python",
   "pygments_lexer": "ipython3",
   "version": "3.11.9"
  }
 },
 "nbformat": 4,
 "nbformat_minor": 5
}
