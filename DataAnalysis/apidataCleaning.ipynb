{
 "cells": [
  {
   "cell_type": "code",
   "execution_count": 17,
   "metadata": {},
   "outputs": [],
   "source": [
    "import pandas as pd\n",
    "from dateutil import parser\n",
    "import isodate\n",
    "\n",
    "\n",
    "df=pd.read_csv('Data\\\\apiData.csv')\n"
   ]
  },
  {
   "cell_type": "code",
   "execution_count": 18,
   "metadata": {},
   "outputs": [
    {
     "data": {
      "text/plain": [
       "video_id          False\n",
       "channelTitle      False\n",
       "title             False\n",
       "description        True\n",
       "tags               True\n",
       "publishedAt       False\n",
       "viewCount         False\n",
       "likeCount          True\n",
       "favouriteCount     True\n",
       "commentCount       True\n",
       "duration          False\n",
       "definition        False\n",
       "caption           False\n",
       "dtype: bool"
      ]
     },
     "execution_count": 18,
     "metadata": {},
     "output_type": "execute_result"
    }
   ],
   "source": [
    "df.isnull().any()"
   ]
  },
  {
   "cell_type": "code",
   "execution_count": 19,
   "metadata": {},
   "outputs": [
    {
     "data": {
      "text/plain": [
       "video_id           object\n",
       "channelTitle       object\n",
       "title              object\n",
       "description        object\n",
       "tags               object\n",
       "publishedAt        object\n",
       "viewCount           int64\n",
       "likeCount         float64\n",
       "favouriteCount    float64\n",
       "commentCount      float64\n",
       "duration           object\n",
       "definition         object\n",
       "caption              bool\n",
       "dtype: object"
      ]
     },
     "execution_count": 19,
     "metadata": {},
     "output_type": "execute_result"
    }
   ],
   "source": [
    "df.dtypes\n"
   ]
  },
  {
   "cell_type": "code",
   "execution_count": 20,
   "metadata": {},
   "outputs": [],
   "source": [
    "numeric = ['viewCount', 'likeCount', 'favouriteCount', 'commentCount']\n",
    "df[numeric] = df[numeric].apply(pd.to_numeric, errors = 'coerce', axis = 1)"
   ]
  },
  {
   "cell_type": "code",
   "execution_count": 21,
   "metadata": {},
   "outputs": [
    {
     "data": {
      "text/plain": [
       "video_id           object\n",
       "channelTitle       object\n",
       "title              object\n",
       "description        object\n",
       "tags               object\n",
       "publishedAt        object\n",
       "viewCount         float64\n",
       "likeCount         float64\n",
       "favouriteCount    float64\n",
       "commentCount      float64\n",
       "duration           object\n",
       "definition         object\n",
       "caption              bool\n",
       "dtype: object"
      ]
     },
     "execution_count": 21,
     "metadata": {},
     "output_type": "execute_result"
    }
   ],
   "source": [
    "df.dtypes\n"
   ]
  },
  {
   "cell_type": "code",
   "execution_count": 22,
   "metadata": {},
   "outputs": [
    {
     "name": "stdout",
     "output_type": "stream",
     "text": [
      "0        Friday\n",
      "1      Saturday\n",
      "2      Thursday\n",
      "3       Tuesday\n",
      "4      Saturday\n",
      "         ...   \n",
      "786      Sunday\n",
      "787    Saturday\n",
      "788    Saturday\n",
      "789      Friday\n",
      "790      Monday\n",
      "Name: pushblishDayName, Length: 791, dtype: object\n",
      "0     2024-05-03 16:00:00+00:00\n",
      "1     2024-04-27 16:00:00+00:00\n",
      "2     2024-04-25 16:00:03+00:00\n",
      "3     2024-04-23 16:00:01+00:00\n",
      "4     2024-04-20 15:59:59+00:00\n",
      "                 ...           \n",
      "786   2013-01-13 01:59:21+00:00\n",
      "787   2013-01-12 23:35:45+00:00\n",
      "788   2013-01-12 22:34:11+00:00\n",
      "789   2012-03-09 23:29:03+00:00\n",
      "790   2012-02-20 22:42:32+00:00\n",
      "Name: publishedAt, Length: 791, dtype: datetime64[ns, tzutc()]\n"
     ]
    }
   ],
   "source": [
    "df['publishedAt'] =df['publishedAt'].apply(lambda x: parser.parse(x)) \n",
    "df['pushblishDayName'] = df['publishedAt'].apply(lambda x: x.strftime(\"%A\")) \n",
    "print(df['pushblishDayName'])\n",
    "print(df['publishedAt'] )"
   ]
  },
  {
   "cell_type": "code",
   "execution_count": 23,
   "metadata": {},
   "outputs": [],
   "source": [
    "df['durationSecs'] = df['duration'].apply(lambda x: isodate.parse_duration(x))\n",
    "df['durationSecs'] = df['durationSecs'].astype('timedelta64[s]')\n",
    "df['durationSecs'] = pd.to_timedelta(df['duration']).dt.total_seconds()\n",
    "\n"
   ]
  },
  {
   "cell_type": "code",
   "execution_count": 24,
   "metadata": {},
   "outputs": [
    {
     "data": {
      "text/html": [
       "<div>\n",
       "<style scoped>\n",
       "    .dataframe tbody tr th:only-of-type {\n",
       "        vertical-align: middle;\n",
       "    }\n",
       "\n",
       "    .dataframe tbody tr th {\n",
       "        vertical-align: top;\n",
       "    }\n",
       "\n",
       "    .dataframe thead th {\n",
       "        text-align: right;\n",
       "    }\n",
       "</style>\n",
       "<table border=\"1\" class=\"dataframe\">\n",
       "  <thead>\n",
       "    <tr style=\"text-align: right;\">\n",
       "      <th></th>\n",
       "      <th>durationSecs</th>\n",
       "      <th>duration</th>\n",
       "    </tr>\n",
       "  </thead>\n",
       "  <tbody>\n",
       "    <tr>\n",
       "      <th>0</th>\n",
       "      <td>60.0</td>\n",
       "      <td>PT1M</td>\n",
       "    </tr>\n",
       "    <tr>\n",
       "      <th>1</th>\n",
       "      <td>600.0</td>\n",
       "      <td>PT10M</td>\n",
       "    </tr>\n",
       "    <tr>\n",
       "      <th>2</th>\n",
       "      <td>35.0</td>\n",
       "      <td>PT35S</td>\n",
       "    </tr>\n",
       "    <tr>\n",
       "      <th>3</th>\n",
       "      <td>44.0</td>\n",
       "      <td>PT44S</td>\n",
       "    </tr>\n",
       "    <tr>\n",
       "      <th>4</th>\n",
       "      <td>2402.0</td>\n",
       "      <td>PT40M2S</td>\n",
       "    </tr>\n",
       "    <tr>\n",
       "      <th>...</th>\n",
       "      <td>...</td>\n",
       "      <td>...</td>\n",
       "    </tr>\n",
       "    <tr>\n",
       "      <th>786</th>\n",
       "      <td>31.0</td>\n",
       "      <td>PT31S</td>\n",
       "    </tr>\n",
       "    <tr>\n",
       "      <th>787</th>\n",
       "      <td>126.0</td>\n",
       "      <td>PT2M6S</td>\n",
       "    </tr>\n",
       "    <tr>\n",
       "      <th>788</th>\n",
       "      <td>90.0</td>\n",
       "      <td>PT1M30S</td>\n",
       "    </tr>\n",
       "    <tr>\n",
       "      <th>789</th>\n",
       "      <td>239.0</td>\n",
       "      <td>PT3M59S</td>\n",
       "    </tr>\n",
       "    <tr>\n",
       "      <th>790</th>\n",
       "      <td>157.0</td>\n",
       "      <td>PT2M37S</td>\n",
       "    </tr>\n",
       "  </tbody>\n",
       "</table>\n",
       "<p>791 rows × 2 columns</p>\n",
       "</div>"
      ],
      "text/plain": [
       "     durationSecs duration\n",
       "0            60.0     PT1M\n",
       "1           600.0    PT10M\n",
       "2            35.0    PT35S\n",
       "3            44.0    PT44S\n",
       "4          2402.0  PT40M2S\n",
       "..            ...      ...\n",
       "786          31.0    PT31S\n",
       "787         126.0   PT2M6S\n",
       "788          90.0  PT1M30S\n",
       "789         239.0  PT3M59S\n",
       "790         157.0  PT2M37S\n",
       "\n",
       "[791 rows x 2 columns]"
      ]
     },
     "execution_count": 24,
     "metadata": {},
     "output_type": "execute_result"
    }
   ],
   "source": [
    "df[['durationSecs', 'duration']] \n"
   ]
  },
  {
   "cell_type": "code",
   "execution_count": 25,
   "metadata": {},
   "outputs": [
    {
     "data": {
      "text/plain": [
       "video_id                             object\n",
       "channelTitle                         object\n",
       "title                                object\n",
       "description                          object\n",
       "tags                                 object\n",
       "publishedAt         datetime64[ns, tzutc()]\n",
       "viewCount                           float64\n",
       "likeCount                           float64\n",
       "favouriteCount                      float64\n",
       "commentCount                        float64\n",
       "duration                             object\n",
       "definition                           object\n",
       "caption                                bool\n",
       "pushblishDayName                     object\n",
       "durationSecs                        float64\n",
       "dtype: object"
      ]
     },
     "execution_count": 25,
     "metadata": {},
     "output_type": "execute_result"
    }
   ],
   "source": [
    "df.dtypes\n"
   ]
  },
  {
   "cell_type": "code",
   "execution_count": 26,
   "metadata": {},
   "outputs": [
    {
     "data": {
      "text/html": [
       "<div>\n",
       "<style scoped>\n",
       "    .dataframe tbody tr th:only-of-type {\n",
       "        vertical-align: middle;\n",
       "    }\n",
       "\n",
       "    .dataframe tbody tr th {\n",
       "        vertical-align: top;\n",
       "    }\n",
       "\n",
       "    .dataframe thead th {\n",
       "        text-align: right;\n",
       "    }\n",
       "</style>\n",
       "<table border=\"1\" class=\"dataframe\">\n",
       "  <thead>\n",
       "    <tr style=\"text-align: right;\">\n",
       "      <th></th>\n",
       "      <th>video_id</th>\n",
       "      <th>channelTitle</th>\n",
       "      <th>title</th>\n",
       "      <th>description</th>\n",
       "      <th>tags</th>\n",
       "      <th>publishedAt</th>\n",
       "      <th>viewCount</th>\n",
       "      <th>likeCount</th>\n",
       "      <th>favouriteCount</th>\n",
       "      <th>commentCount</th>\n",
       "      <th>duration</th>\n",
       "      <th>definition</th>\n",
       "      <th>caption</th>\n",
       "      <th>pushblishDayName</th>\n",
       "      <th>durationSecs</th>\n",
       "      <th>tagCount</th>\n",
       "    </tr>\n",
       "  </thead>\n",
       "  <tbody>\n",
       "    <tr>\n",
       "      <th>0</th>\n",
       "      <td>8_gdcaX9Xqk</td>\n",
       "      <td>MrBeast</td>\n",
       "      <td>Would You Split Or Steal $250,000?</td>\n",
       "      <td>NaN</td>\n",
       "      <td></td>\n",
       "      <td>2024-05-03 16:00:00+00:00</td>\n",
       "      <td>17483081.0</td>\n",
       "      <td>1810504.0</td>\n",
       "      <td>NaN</td>\n",
       "      <td>13291.0</td>\n",
       "      <td>PT1M</td>\n",
       "      <td>hd</td>\n",
       "      <td>False</td>\n",
       "      <td>Friday</td>\n",
       "      <td>60.0</td>\n",
       "      <td>0</td>\n",
       "    </tr>\n",
       "    <tr>\n",
       "      <th>1</th>\n",
       "      <td>Pv0iVoSZzN8</td>\n",
       "      <td>MrBeast</td>\n",
       "      <td>10 Minutes To Escape Or This Room Explodes!</td>\n",
       "      <td>I didn’t expect that to happen…\\nThere’s no ju...</td>\n",
       "      <td></td>\n",
       "      <td>2024-04-27 16:00:00+00:00</td>\n",
       "      <td>74336611.0</td>\n",
       "      <td>3294055.0</td>\n",
       "      <td>NaN</td>\n",
       "      <td>79768.0</td>\n",
       "      <td>PT10M</td>\n",
       "      <td>hd</td>\n",
       "      <td>True</td>\n",
       "      <td>Saturday</td>\n",
       "      <td>600.0</td>\n",
       "      <td>0</td>\n",
       "    </tr>\n",
       "    <tr>\n",
       "      <th>2</th>\n",
       "      <td>CWbV3NItSdY</td>\n",
       "      <td>MrBeast</td>\n",
       "      <td>The World's Fastest Cleaners</td>\n",
       "      <td>NaN</td>\n",
       "      <td></td>\n",
       "      <td>2024-04-25 16:00:03+00:00</td>\n",
       "      <td>103547821.0</td>\n",
       "      <td>6490767.0</td>\n",
       "      <td>NaN</td>\n",
       "      <td>18266.0</td>\n",
       "      <td>PT35S</td>\n",
       "      <td>hd</td>\n",
       "      <td>False</td>\n",
       "      <td>Thursday</td>\n",
       "      <td>35.0</td>\n",
       "      <td>0</td>\n",
       "    </tr>\n",
       "    <tr>\n",
       "      <th>3</th>\n",
       "      <td>VLqZUENAFY4</td>\n",
       "      <td>MrBeast</td>\n",
       "      <td>Deal or No Deal with Howie Mandel</td>\n",
       "      <td>NaN</td>\n",
       "      <td></td>\n",
       "      <td>2024-04-23 16:00:01+00:00</td>\n",
       "      <td>22052638.0</td>\n",
       "      <td>1423642.0</td>\n",
       "      <td>NaN</td>\n",
       "      <td>6513.0</td>\n",
       "      <td>PT44S</td>\n",
       "      <td>hd</td>\n",
       "      <td>False</td>\n",
       "      <td>Tuesday</td>\n",
       "      <td>44.0</td>\n",
       "      <td>0</td>\n",
       "    </tr>\n",
       "    <tr>\n",
       "      <th>4</th>\n",
       "      <td>l-nMKJ5J3Uc</td>\n",
       "      <td>MrBeast</td>\n",
       "      <td>Ages 1 - 100 Decide Who Wins $250,000</td>\n",
       "      <td>I can’t believe who they picked\\nThanks Top Tr...</td>\n",
       "      <td></td>\n",
       "      <td>2024-04-20 15:59:59+00:00</td>\n",
       "      <td>127843331.0</td>\n",
       "      <td>4716536.0</td>\n",
       "      <td>NaN</td>\n",
       "      <td>202388.0</td>\n",
       "      <td>PT40M2S</td>\n",
       "      <td>hd</td>\n",
       "      <td>True</td>\n",
       "      <td>Saturday</td>\n",
       "      <td>2402.0</td>\n",
       "      <td>0</td>\n",
       "    </tr>\n",
       "  </tbody>\n",
       "</table>\n",
       "</div>"
      ],
      "text/plain": [
       "      video_id channelTitle                                        title  \\\n",
       "0  8_gdcaX9Xqk      MrBeast           Would You Split Or Steal $250,000?   \n",
       "1  Pv0iVoSZzN8      MrBeast  10 Minutes To Escape Or This Room Explodes!   \n",
       "2  CWbV3NItSdY      MrBeast                 The World's Fastest Cleaners   \n",
       "3  VLqZUENAFY4      MrBeast            Deal or No Deal with Howie Mandel   \n",
       "4  l-nMKJ5J3Uc      MrBeast        Ages 1 - 100 Decide Who Wins $250,000   \n",
       "\n",
       "                                         description tags  \\\n",
       "0                                                NaN        \n",
       "1  I didn’t expect that to happen…\\nThere’s no ju...        \n",
       "2                                                NaN        \n",
       "3                                                NaN        \n",
       "4  I can’t believe who they picked\\nThanks Top Tr...        \n",
       "\n",
       "                publishedAt    viewCount  likeCount  favouriteCount  \\\n",
       "0 2024-05-03 16:00:00+00:00   17483081.0  1810504.0             NaN   \n",
       "1 2024-04-27 16:00:00+00:00   74336611.0  3294055.0             NaN   \n",
       "2 2024-04-25 16:00:03+00:00  103547821.0  6490767.0             NaN   \n",
       "3 2024-04-23 16:00:01+00:00   22052638.0  1423642.0             NaN   \n",
       "4 2024-04-20 15:59:59+00:00  127843331.0  4716536.0             NaN   \n",
       "\n",
       "   commentCount duration definition  caption pushblishDayName  durationSecs  \\\n",
       "0       13291.0     PT1M         hd    False           Friday          60.0   \n",
       "1       79768.0    PT10M         hd     True         Saturday         600.0   \n",
       "2       18266.0    PT35S         hd    False         Thursday          35.0   \n",
       "3        6513.0    PT44S         hd    False          Tuesday          44.0   \n",
       "4      202388.0  PT40M2S         hd     True         Saturday        2402.0   \n",
       "\n",
       "   tagCount  \n",
       "0         0  \n",
       "1         0  \n",
       "2         0  \n",
       "3         0  \n",
       "4         0  "
      ]
     },
     "execution_count": 26,
     "metadata": {},
     "output_type": "execute_result"
    }
   ],
   "source": [
    "# Replace NaN values with an empty list\n",
    "df['tags'] = df['tags'].fillna('')\n",
    "\n",
    "# Apply lambda function to calculate tag count\n",
    "df['tagCount'] = df['tags'].apply(lambda x: 0 if pd.isna(x) else len(x) if isinstance(x, list) else 0)\n",
    "\n",
    "df.head()\n"
   ]
  },
  {
   "cell_type": "code",
   "execution_count": 27,
   "metadata": {},
   "outputs": [],
   "source": [
    "df.drop('description', axis=1, inplace=True)"
   ]
  },
  {
   "cell_type": "code",
   "execution_count": 28,
   "metadata": {},
   "outputs": [],
   "source": [
    "df.to_csv('Data\\\\CleanData.csv', index=False)\n"
   ]
  }
 ],
 "metadata": {
  "kernelspec": {
   "display_name": ".venv",
   "language": "python",
   "name": "python3"
  },
  "language_info": {
   "codemirror_mode": {
    "name": "ipython",
    "version": 3
   },
   "file_extension": ".py",
   "mimetype": "text/x-python",
   "name": "python",
   "nbconvert_exporter": "python",
   "pygments_lexer": "ipython3",
   "version": "3.11.9"
  }
 },
 "nbformat": 4,
 "nbformat_minor": 2
}
