{
 "cells": [
  {
   "cell_type": "code",
   "execution_count": 1,
   "metadata": {},
   "outputs": [],
   "source": [
    "import pandas as pd"
   ]
  },
  {
   "cell_type": "code",
   "execution_count": 2,
   "metadata": {},
   "outputs": [
    {
     "data": {
      "text/html": [
       "<div>\n",
       "<style scoped>\n",
       "    .dataframe tbody tr th:only-of-type {\n",
       "        vertical-align: middle;\n",
       "    }\n",
       "\n",
       "    .dataframe tbody tr th {\n",
       "        vertical-align: top;\n",
       "    }\n",
       "\n",
       "    .dataframe thead th {\n",
       "        text-align: right;\n",
       "    }\n",
       "</style>\n",
       "<table border=\"1\" class=\"dataframe\">\n",
       "  <thead>\n",
       "    <tr style=\"text-align: right;\">\n",
       "      <th></th>\n",
       "      <th>VideoID</th>\n",
       "      <th>Username</th>\n",
       "      <th>Comment</th>\n",
       "    </tr>\n",
       "  </thead>\n",
       "  <tbody>\n",
       "    <tr>\n",
       "      <th>0</th>\n",
       "      <td>yXoqz_GOJxw</td>\n",
       "      <td>@avinabaenator</td>\n",
       "      <td>That's quite a height difference</td>\n",
       "    </tr>\n",
       "    <tr>\n",
       "      <th>1</th>\n",
       "      <td>QGP02UnMhhE</td>\n",
       "      <td>@LifeByMD</td>\n",
       "      <td>Don't encourage alcohol😂</td>\n",
       "    </tr>\n",
       "    <tr>\n",
       "      <th>2</th>\n",
       "      <td>ScnDAe0IsYc</td>\n",
       "      <td>@nishantmittalblog</td>\n",
       "      <td>whats this homestay name?</td>\n",
       "    </tr>\n",
       "    <tr>\n",
       "      <th>3</th>\n",
       "      <td>UdrlseaiS2E</td>\n",
       "      <td>@vishakr7194</td>\n",
       "      <td>Good one 😂😂😂</td>\n",
       "    </tr>\n",
       "    <tr>\n",
       "      <th>4</th>\n",
       "      <td>2WCcSLE7aDA</td>\n",
       "      <td>@nks8630</td>\n",
       "      <td>Wife ke maare do bechare😂😂😂</td>\n",
       "    </tr>\n",
       "    <tr>\n",
       "      <th>...</th>\n",
       "      <td>...</td>\n",
       "      <td>...</td>\n",
       "      <td>...</td>\n",
       "    </tr>\n",
       "    <tr>\n",
       "      <th>321</th>\n",
       "      <td>TRM_e1O7TVU</td>\n",
       "      <td>@ornatrabelsi9174</td>\n",
       "      <td>So young❤</td>\n",
       "    </tr>\n",
       "    <tr>\n",
       "      <th>322</th>\n",
       "      <td>U_xZFqXOyFY</td>\n",
       "      <td>@Uppolice.age.relaxation</td>\n",
       "      <td>The smile at the end 😂</td>\n",
       "    </tr>\n",
       "    <tr>\n",
       "      <th>323</th>\n",
       "      <td>k7dmrSbCpy4</td>\n",
       "      <td>@bnm3693</td>\n",
       "      <td>That's sooo me since the beginning of this month</td>\n",
       "    </tr>\n",
       "    <tr>\n",
       "      <th>324</th>\n",
       "      <td>cffqyq-U2Og</td>\n",
       "      <td>@Madhuwellness</td>\n",
       "      <td>My 10 year old 😂</td>\n",
       "    </tr>\n",
       "    <tr>\n",
       "      <th>325</th>\n",
       "      <td>xxwNglca0Bo</td>\n",
       "      <td>@Neeharika-M</td>\n",
       "      <td>U started a channel ten years ago...omg u r so...</td>\n",
       "    </tr>\n",
       "  </tbody>\n",
       "</table>\n",
       "<p>326 rows × 3 columns</p>\n",
       "</div>"
      ],
      "text/plain": [
       "         VideoID                  Username  \\\n",
       "0    yXoqz_GOJxw            @avinabaenator   \n",
       "1    QGP02UnMhhE                 @LifeByMD   \n",
       "2    ScnDAe0IsYc        @nishantmittalblog   \n",
       "3    UdrlseaiS2E              @vishakr7194   \n",
       "4    2WCcSLE7aDA                  @nks8630   \n",
       "..           ...                       ...   \n",
       "321  TRM_e1O7TVU         @ornatrabelsi9174   \n",
       "322  U_xZFqXOyFY  @Uppolice.age.relaxation   \n",
       "323  k7dmrSbCpy4                  @bnm3693   \n",
       "324  cffqyq-U2Og            @Madhuwellness   \n",
       "325  xxwNglca0Bo              @Neeharika-M   \n",
       "\n",
       "                                               Comment  \n",
       "0                     That's quite a height difference  \n",
       "1                             Don't encourage alcohol😂  \n",
       "2                            whats this homestay name?  \n",
       "3                                         Good one 😂😂😂  \n",
       "4                          Wife ke maare do bechare😂😂😂  \n",
       "..                                                 ...  \n",
       "321                                          So young❤  \n",
       "322                             The smile at the end 😂  \n",
       "323   That's sooo me since the beginning of this month  \n",
       "324                                   My 10 year old 😂  \n",
       "325  U started a channel ten years ago...omg u r so...  \n",
       "\n",
       "[326 rows x 3 columns]"
      ]
     },
     "execution_count": 2,
     "metadata": {},
     "output_type": "execute_result"
    }
   ],
   "source": [
    "df=pd.read_csv('Data\\\\commentsData.csv')\n",
    "df"
   ]
  },
  {
   "cell_type": "code",
   "execution_count": 6,
   "metadata": {},
   "outputs": [
    {
     "data": {
      "text/plain": [
       "0                       That's quite a height difference\n",
       "1                               Don't encourage alcohol😂\n",
       "2                              whats this homestay name?\n",
       "3                                           Good one 😂😂😂\n",
       "4                            Wife ke maare do bechare😂😂😂\n",
       "                             ...                        \n",
       "321                                            So young❤\n",
       "322                               The smile at the end 😂\n",
       "323     That's sooo me since the beginning of this month\n",
       "324                                     My 10 year old 😂\n",
       "325    U started a channel ten years ago...omg u r so...\n",
       "Name: Comment, Length: 326, dtype: object"
      ]
     },
     "execution_count": 6,
     "metadata": {},
     "output_type": "execute_result"
    }
   ],
   "source": [
    "df['Comment']"
   ]
  }
 ],
 "metadata": {
  "kernelspec": {
   "display_name": "Python 3",
   "language": "python",
   "name": "python3"
  },
  "language_info": {
   "codemirror_mode": {
    "name": "ipython",
    "version": 3
   },
   "file_extension": ".py",
   "mimetype": "text/x-python",
   "name": "python",
   "nbconvert_exporter": "python",
   "pygments_lexer": "ipython3",
   "version": "3.11.9"
  }
 },
 "nbformat": 4,
 "nbformat_minor": 2
}
