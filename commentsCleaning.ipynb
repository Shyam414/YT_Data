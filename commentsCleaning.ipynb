{
 "cells": [
  {
   "cell_type": "code",
   "execution_count": 5,
   "metadata": {},
   "outputs": [],
   "source": [
    "import pandas as pd"
   ]
  },
  {
   "cell_type": "code",
   "execution_count": 6,
   "metadata": {},
   "outputs": [
    {
     "data": {
      "text/html": [
       "<div>\n",
       "<style scoped>\n",
       "    .dataframe tbody tr th:only-of-type {\n",
       "        vertical-align: middle;\n",
       "    }\n",
       "\n",
       "    .dataframe tbody tr th {\n",
       "        vertical-align: top;\n",
       "    }\n",
       "\n",
       "    .dataframe thead th {\n",
       "        text-align: right;\n",
       "    }\n",
       "</style>\n",
       "<table border=\"1\" class=\"dataframe\">\n",
       "  <thead>\n",
       "    <tr style=\"text-align: right;\">\n",
       "      <th></th>\n",
       "      <th>video_id</th>\n",
       "      <th>comments</th>\n",
       "    </tr>\n",
       "  </thead>\n",
       "  <tbody>\n",
       "    <tr>\n",
       "      <th>0</th>\n",
       "      <td>QGP02UnMhhE</td>\n",
       "      <td>[{'comment': 'Tssss aaaahhhh 😂🍻', 'author': '@...</td>\n",
       "    </tr>\n",
       "    <tr>\n",
       "      <th>1</th>\n",
       "      <td>ScnDAe0IsYc</td>\n",
       "      <td>[{'comment': 'Re-uploading this one cause Yout...</td>\n",
       "    </tr>\n",
       "    <tr>\n",
       "      <th>2</th>\n",
       "      <td>UdrlseaiS2E</td>\n",
       "      <td>[{'comment': 'She didn’t lie, she was power-le...</td>\n",
       "    </tr>\n",
       "    <tr>\n",
       "      <th>3</th>\n",
       "      <td>2WCcSLE7aDA</td>\n",
       "      <td>[{'comment': 'Go check out the full video on o...</td>\n",
       "    </tr>\n",
       "    <tr>\n",
       "      <th>4</th>\n",
       "      <td>NeEFmzqU4bw</td>\n",
       "      <td>[{'comment': 'Which burn was your favourite? 😂...</td>\n",
       "    </tr>\n",
       "    <tr>\n",
       "      <th>...</th>\n",
       "      <td>...</td>\n",
       "      <td>...</td>\n",
       "    </tr>\n",
       "    <tr>\n",
       "      <th>320</th>\n",
       "      <td>TRM_e1O7TVU</td>\n",
       "      <td>[{'comment': '😂😂😂😂', 'author': '@jonathansolom...</td>\n",
       "    </tr>\n",
       "    <tr>\n",
       "      <th>321</th>\n",
       "      <td>U_xZFqXOyFY</td>\n",
       "      <td>[{'comment': 'That creepy smile', 'author': '@...</td>\n",
       "    </tr>\n",
       "    <tr>\n",
       "      <th>322</th>\n",
       "      <td>k7dmrSbCpy4</td>\n",
       "      <td>[{'comment': 'Finished all of ur shorts😂😂', 'a...</td>\n",
       "    </tr>\n",
       "    <tr>\n",
       "      <th>323</th>\n",
       "      <td>cffqyq-U2Og</td>\n",
       "      <td>[{'comment': 'Haha', 'author': '@ayyappanganes...</td>\n",
       "    </tr>\n",
       "    <tr>\n",
       "      <th>324</th>\n",
       "      <td>xxwNglca0Bo</td>\n",
       "      <td>[{'comment': 'I saw this today ❤', 'author': '...</td>\n",
       "    </tr>\n",
       "  </tbody>\n",
       "</table>\n",
       "<p>325 rows × 2 columns</p>\n",
       "</div>"
      ],
      "text/plain": [
       "        video_id                                           comments\n",
       "0    QGP02UnMhhE  [{'comment': 'Tssss aaaahhhh 😂🍻', 'author': '@...\n",
       "1    ScnDAe0IsYc  [{'comment': 'Re-uploading this one cause Yout...\n",
       "2    UdrlseaiS2E  [{'comment': 'She didn’t lie, she was power-le...\n",
       "3    2WCcSLE7aDA  [{'comment': 'Go check out the full video on o...\n",
       "4    NeEFmzqU4bw  [{'comment': 'Which burn was your favourite? 😂...\n",
       "..           ...                                                ...\n",
       "320  TRM_e1O7TVU  [{'comment': '😂😂😂😂', 'author': '@jonathansolom...\n",
       "321  U_xZFqXOyFY  [{'comment': 'That creepy smile', 'author': '@...\n",
       "322  k7dmrSbCpy4  [{'comment': 'Finished all of ur shorts😂😂', 'a...\n",
       "323  cffqyq-U2Og  [{'comment': 'Haha', 'author': '@ayyappanganes...\n",
       "324  xxwNglca0Bo  [{'comment': 'I saw this today ❤', 'author': '...\n",
       "\n",
       "[325 rows x 2 columns]"
      ]
     },
     "execution_count": 6,
     "metadata": {},
     "output_type": "execute_result"
    }
   ],
   "source": [
    "df=pd.read_csv('Data\\\\commentsData.csv')\n",
    "df"
   ]
  },
  {
   "cell_type": "code",
   "execution_count": 7,
   "metadata": {},
   "outputs": [
    {
     "data": {
      "text/plain": [
       "'[{\\'comment\\': \\'Do leave suggestions for any topics you guys would like to make a sketch around. We’ll consider the most liked ideas. 😁 Do subscribe if you guys are enjoying the content. ❤️ Cheers! 🍻\\', \\'author\\': \\'@RohitandKanu\\'}, {\\'comment\\': \\'Thats how u end up on a Netflix murder documentary😂..U people r so bright ❤\\', \\'author\\': \\'@jananejanane2205\\'}, {\\'comment\\': \\'You should put a disclaimer if Kanupriya is not gonna appear.\\', \\'author\\': \\'@TathagataMitraTom\\'}, {\\'comment\\': \\'❤\\', \\'author\\': \\'@psreekar8249\\'}, {\\'comment\\': \\'Dont lose hope and stand on your feet\\', \\'author\\': \\'@sahilbhise8499\\'}, {\\'comment\\': \\'Do you really think making fun of women will give a good message\\', \\'author\\': \\'@lakshmigireesh9342\\'}, {\\'comment\\': \\'1:07 I GOT SCARED EVEN THOUGH I DONT HAVE A WIFE\\', \\'author\\': \\'@Conner9669\\'}, {\\'comment\\': \\'Bro you should start a husbands community\\', \\'author\\': \\'@BlessonDensil\\'}, {\\'comment\\': \\'Perfect Perfect Perfect!!\\', \\'author\\': \\'@utkarshpandey.uv2169\\'}, {\\'comment\\': \\'Give us a home tourrrrre\\', \\'author\\': \\'@ananya1294\\'}, {\\'comment\\': \\'Too good 😂😂😂\\', \\'author\\': \\'@tentinybreaths\\'}, {\\'comment\\': \\'Can anyone please tell me whats the meaning that \"its basically same thing\"🙄\\', \\'author\\': \\'@psychologybyme2001\\'}, {\\'comment\\': \"I\\'m glad he got with the program in the end...😂\", \\'author\\': \\'@obsidian_Ke\\'}, {\\'comment\\': \"This is a GENERAL COMMENT. I hit the LIKE button even before any of your videos start. This is coz am so sure that it is going to be HILARIOUS and LOLZ as always and usual. The best couple on Social Media. Just Luv you Guys....I was just watching the Reels of pampering my baby.....even before it started seeing your both initial expressions I hit the LIKE button.....The I KNEW IT was really a killer that you jump off ...God Bless you both and keep this things coming as it is really refreshing to watch your videos and reels when someone is depressed...It brings a smile and laugh on one\\'s face. Thank You.\", \\'author\\': \\'@MA-eb9ed\\'}, {\\'comment\\': \\'Bro rocks in long form\\', \\'author\\': \\'@Boyinthecircle\\'}, {\\'comment\\': \\'Rohit bhai soon will open how to handle wife workshop 😂\\', \\'author\\': \\'@akashkale4943\\'}, {\\'comment\\': \\'I am not sure when I laughed this much before but the writing was excellent.\\\\n\\\\nEven though I am unmarried, I can relate so much because the IPL thing is exactly what happened to my elder brother and even I asked him and I quote this\\\\n\\\\n\"YOU GOT MARRIED TOO SOON\"\\\\n\\\\n😂😂😂\\', \\'author\\': \\'@GHOST-ob2mh\\'}, {\\'comment\\': \\'The way the 24 hrs went 😂😂😂\\', \\'author\\': \\'@Monoposto.\\'}, {\\'comment\\': \\'For some reason i read Rohit and “Kanpuriya” 😂😂😂😂\\', \\'author\\': \\'@NeeteshSinghHere\\'}, {\\'comment\\': \\'Can anybody explain the ending to me really fast please?\\', \\'author\\': \\'@minahilgamingsx\\'}]'"
      ]
     },
     "execution_count": 7,
     "metadata": {},
     "output_type": "execute_result"
    }
   ],
   "source": [
    "df['comments'][5]"
   ]
  }
 ],
 "metadata": {
  "kernelspec": {
   "display_name": "Python 3",
   "language": "python",
   "name": "python3"
  },
  "language_info": {
   "codemirror_mode": {
    "name": "ipython",
    "version": 3
   },
   "file_extension": ".py",
   "mimetype": "text/x-python",
   "name": "python",
   "nbconvert_exporter": "python",
   "pygments_lexer": "ipython3",
   "version": "3.11.9"
  }
 },
 "nbformat": 4,
 "nbformat_minor": 2
}
