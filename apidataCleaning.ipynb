{
 "cells": [
  {
   "cell_type": "code",
   "execution_count": 1,
   "metadata": {},
   "outputs": [],
   "source": [
    "import pandas as pd\n",
    "from dateutil import parser\n",
    "import isodate\n",
    "\n",
    "\n",
    "df=pd.read_csv('Data\\\\apiData.csv')\n"
   ]
  },
  {
   "cell_type": "code",
   "execution_count": 2,
   "metadata": {},
   "outputs": [
    {
     "data": {
      "text/plain": [
       "video_id          False\n",
       "channelTitle      False\n",
       "title             False\n",
       "description        True\n",
       "tags               True\n",
       "publishedAt       False\n",
       "viewCount         False\n",
       "likeCount          True\n",
       "favouriteCount     True\n",
       "commentCount       True\n",
       "duration          False\n",
       "definition        False\n",
       "caption           False\n",
       "dtype: bool"
      ]
     },
     "execution_count": 2,
     "metadata": {},
     "output_type": "execute_result"
    }
   ],
   "source": [
    "df.isnull().any()"
   ]
  },
  {
   "cell_type": "code",
   "execution_count": 3,
   "metadata": {},
   "outputs": [
    {
     "data": {
      "text/plain": [
       "video_id           object\n",
       "channelTitle       object\n",
       "title              object\n",
       "description        object\n",
       "tags               object\n",
       "publishedAt        object\n",
       "viewCount           int64\n",
       "likeCount         float64\n",
       "favouriteCount    float64\n",
       "commentCount      float64\n",
       "duration           object\n",
       "definition         object\n",
       "caption              bool\n",
       "dtype: object"
      ]
     },
     "execution_count": 3,
     "metadata": {},
     "output_type": "execute_result"
    }
   ],
   "source": [
    "df.dtypes\n"
   ]
  },
  {
   "cell_type": "code",
   "execution_count": 4,
   "metadata": {},
   "outputs": [],
   "source": [
    "numeric_cols = ['viewCount', 'likeCount', 'favouriteCount', 'commentCount']\n",
    "df[numeric_cols] = df[numeric_cols].apply(pd.to_numeric, errors = 'coerce', axis = 1)"
   ]
  },
  {
   "cell_type": "code",
   "execution_count": 5,
   "metadata": {},
   "outputs": [
    {
     "data": {
      "text/plain": [
       "video_id           object\n",
       "channelTitle       object\n",
       "title              object\n",
       "description        object\n",
       "tags               object\n",
       "publishedAt        object\n",
       "viewCount         float64\n",
       "likeCount         float64\n",
       "favouriteCount    float64\n",
       "commentCount      float64\n",
       "duration           object\n",
       "definition         object\n",
       "caption              bool\n",
       "dtype: object"
      ]
     },
     "execution_count": 5,
     "metadata": {},
     "output_type": "execute_result"
    }
   ],
   "source": [
    "df.dtypes\n"
   ]
  },
  {
   "cell_type": "code",
   "execution_count": 6,
   "metadata": {},
   "outputs": [],
   "source": [
    "df['publishedAt'] =df['publishedAt'].apply(lambda x: parser.parse(x)) \n",
    "df['pushblishDayName'] = df['publishedAt'].apply(lambda x: x.strftime(\"%A\")) "
   ]
  },
  {
   "cell_type": "code",
   "execution_count": 7,
   "metadata": {},
   "outputs": [],
   "source": [
    "df['durationSecs'] = df['duration'].apply(lambda x: isodate.parse_duration(x))\n",
    "df['durationSecs'] = df['durationSecs'].astype('timedelta64[s]')\n",
    "df['durationSecs'] = pd.to_timedelta(df['duration']).dt.total_seconds()\n",
    "\n"
   ]
  },
  {
   "cell_type": "code",
   "execution_count": 8,
   "metadata": {},
   "outputs": [
    {
     "data": {
      "text/html": [
       "<div>\n",
       "<style scoped>\n",
       "    .dataframe tbody tr th:only-of-type {\n",
       "        vertical-align: middle;\n",
       "    }\n",
       "\n",
       "    .dataframe tbody tr th {\n",
       "        vertical-align: top;\n",
       "    }\n",
       "\n",
       "    .dataframe thead th {\n",
       "        text-align: right;\n",
       "    }\n",
       "</style>\n",
       "<table border=\"1\" class=\"dataframe\">\n",
       "  <thead>\n",
       "    <tr style=\"text-align: right;\">\n",
       "      <th></th>\n",
       "      <th>durationSecs</th>\n",
       "      <th>duration</th>\n",
       "    </tr>\n",
       "  </thead>\n",
       "  <tbody>\n",
       "    <tr>\n",
       "      <th>0</th>\n",
       "      <td>600.0</td>\n",
       "      <td>PT10M</td>\n",
       "    </tr>\n",
       "    <tr>\n",
       "      <th>1</th>\n",
       "      <td>35.0</td>\n",
       "      <td>PT35S</td>\n",
       "    </tr>\n",
       "    <tr>\n",
       "      <th>2</th>\n",
       "      <td>44.0</td>\n",
       "      <td>PT44S</td>\n",
       "    </tr>\n",
       "    <tr>\n",
       "      <th>3</th>\n",
       "      <td>2402.0</td>\n",
       "      <td>PT40M2S</td>\n",
       "    </tr>\n",
       "    <tr>\n",
       "      <th>4</th>\n",
       "      <td>46.0</td>\n",
       "      <td>PT46S</td>\n",
       "    </tr>\n",
       "    <tr>\n",
       "      <th>...</th>\n",
       "      <td>...</td>\n",
       "      <td>...</td>\n",
       "    </tr>\n",
       "    <tr>\n",
       "      <th>785</th>\n",
       "      <td>31.0</td>\n",
       "      <td>PT31S</td>\n",
       "    </tr>\n",
       "    <tr>\n",
       "      <th>786</th>\n",
       "      <td>126.0</td>\n",
       "      <td>PT2M6S</td>\n",
       "    </tr>\n",
       "    <tr>\n",
       "      <th>787</th>\n",
       "      <td>90.0</td>\n",
       "      <td>PT1M30S</td>\n",
       "    </tr>\n",
       "    <tr>\n",
       "      <th>788</th>\n",
       "      <td>239.0</td>\n",
       "      <td>PT3M59S</td>\n",
       "    </tr>\n",
       "    <tr>\n",
       "      <th>789</th>\n",
       "      <td>157.0</td>\n",
       "      <td>PT2M37S</td>\n",
       "    </tr>\n",
       "  </tbody>\n",
       "</table>\n",
       "<p>790 rows × 2 columns</p>\n",
       "</div>"
      ],
      "text/plain": [
       "     durationSecs duration\n",
       "0           600.0    PT10M\n",
       "1            35.0    PT35S\n",
       "2            44.0    PT44S\n",
       "3          2402.0  PT40M2S\n",
       "4            46.0    PT46S\n",
       "..            ...      ...\n",
       "785          31.0    PT31S\n",
       "786         126.0   PT2M6S\n",
       "787          90.0  PT1M30S\n",
       "788         239.0  PT3M59S\n",
       "789         157.0  PT2M37S\n",
       "\n",
       "[790 rows x 2 columns]"
      ]
     },
     "execution_count": 8,
     "metadata": {},
     "output_type": "execute_result"
    }
   ],
   "source": [
    "df[['durationSecs', 'duration']] \n"
   ]
  },
  {
   "cell_type": "code",
   "execution_count": 9,
   "metadata": {},
   "outputs": [
    {
     "data": {
      "text/plain": [
       "video_id                             object\n",
       "channelTitle                         object\n",
       "title                                object\n",
       "description                          object\n",
       "tags                                 object\n",
       "publishedAt         datetime64[ns, tzutc()]\n",
       "viewCount                           float64\n",
       "likeCount                           float64\n",
       "favouriteCount                      float64\n",
       "commentCount                        float64\n",
       "duration                             object\n",
       "definition                           object\n",
       "caption                                bool\n",
       "pushblishDayName                     object\n",
       "durationSecs                        float64\n",
       "dtype: object"
      ]
     },
     "execution_count": 9,
     "metadata": {},
     "output_type": "execute_result"
    }
   ],
   "source": [
    "df.dtypes\n"
   ]
  },
  {
   "cell_type": "code",
   "execution_count": 10,
   "metadata": {},
   "outputs": [
    {
     "data": {
      "text/html": [
       "<div>\n",
       "<style scoped>\n",
       "    .dataframe tbody tr th:only-of-type {\n",
       "        vertical-align: middle;\n",
       "    }\n",
       "\n",
       "    .dataframe tbody tr th {\n",
       "        vertical-align: top;\n",
       "    }\n",
       "\n",
       "    .dataframe thead th {\n",
       "        text-align: right;\n",
       "    }\n",
       "</style>\n",
       "<table border=\"1\" class=\"dataframe\">\n",
       "  <thead>\n",
       "    <tr style=\"text-align: right;\">\n",
       "      <th></th>\n",
       "      <th>video_id</th>\n",
       "      <th>channelTitle</th>\n",
       "      <th>title</th>\n",
       "      <th>description</th>\n",
       "      <th>tags</th>\n",
       "      <th>publishedAt</th>\n",
       "      <th>viewCount</th>\n",
       "      <th>likeCount</th>\n",
       "      <th>favouriteCount</th>\n",
       "      <th>commentCount</th>\n",
       "      <th>duration</th>\n",
       "      <th>definition</th>\n",
       "      <th>caption</th>\n",
       "      <th>pushblishDayName</th>\n",
       "      <th>durationSecs</th>\n",
       "      <th>tagCount</th>\n",
       "    </tr>\n",
       "  </thead>\n",
       "  <tbody>\n",
       "    <tr>\n",
       "      <th>0</th>\n",
       "      <td>Pv0iVoSZzN8</td>\n",
       "      <td>MrBeast</td>\n",
       "      <td>10 Minutes To Escape Or This Room Explodes!</td>\n",
       "      <td>I didn’t expect that to happen…\\nThere’s no ju...</td>\n",
       "      <td></td>\n",
       "      <td>2024-04-27 16:00:00+00:00</td>\n",
       "      <td>67638666.0</td>\n",
       "      <td>3153884.0</td>\n",
       "      <td>NaN</td>\n",
       "      <td>75418.0</td>\n",
       "      <td>PT10M</td>\n",
       "      <td>hd</td>\n",
       "      <td>True</td>\n",
       "      <td>Saturday</td>\n",
       "      <td>600.0</td>\n",
       "      <td>0</td>\n",
       "    </tr>\n",
       "    <tr>\n",
       "      <th>1</th>\n",
       "      <td>CWbV3NItSdY</td>\n",
       "      <td>MrBeast</td>\n",
       "      <td>The World's Fastest Cleaners</td>\n",
       "      <td>NaN</td>\n",
       "      <td></td>\n",
       "      <td>2024-04-25 16:00:03+00:00</td>\n",
       "      <td>84876641.0</td>\n",
       "      <td>5594592.0</td>\n",
       "      <td>NaN</td>\n",
       "      <td>16419.0</td>\n",
       "      <td>PT35S</td>\n",
       "      <td>hd</td>\n",
       "      <td>False</td>\n",
       "      <td>Thursday</td>\n",
       "      <td>35.0</td>\n",
       "      <td>0</td>\n",
       "    </tr>\n",
       "    <tr>\n",
       "      <th>2</th>\n",
       "      <td>VLqZUENAFY4</td>\n",
       "      <td>MrBeast</td>\n",
       "      <td>Deal or No Deal with Howie Mandel</td>\n",
       "      <td>NaN</td>\n",
       "      <td></td>\n",
       "      <td>2024-04-23 16:00:01+00:00</td>\n",
       "      <td>20143217.0</td>\n",
       "      <td>1309731.0</td>\n",
       "      <td>NaN</td>\n",
       "      <td>6313.0</td>\n",
       "      <td>PT44S</td>\n",
       "      <td>hd</td>\n",
       "      <td>False</td>\n",
       "      <td>Tuesday</td>\n",
       "      <td>44.0</td>\n",
       "      <td>0</td>\n",
       "    </tr>\n",
       "    <tr>\n",
       "      <th>3</th>\n",
       "      <td>l-nMKJ5J3Uc</td>\n",
       "      <td>MrBeast</td>\n",
       "      <td>Ages 1 - 100 Decide Who Wins $250,000</td>\n",
       "      <td>I can’t believe who they picked\\nThanks Top Tr...</td>\n",
       "      <td></td>\n",
       "      <td>2024-04-20 15:59:59+00:00</td>\n",
       "      <td>122271133.0</td>\n",
       "      <td>4628485.0</td>\n",
       "      <td>NaN</td>\n",
       "      <td>198324.0</td>\n",
       "      <td>PT40M2S</td>\n",
       "      <td>hd</td>\n",
       "      <td>True</td>\n",
       "      <td>Saturday</td>\n",
       "      <td>2402.0</td>\n",
       "      <td>0</td>\n",
       "    </tr>\n",
       "    <tr>\n",
       "      <th>4</th>\n",
       "      <td>XE1Qyss8GIY</td>\n",
       "      <td>MrBeast</td>\n",
       "      <td>Guess The Gift, Keep It</td>\n",
       "      <td>NaN</td>\n",
       "      <td></td>\n",
       "      <td>2024-04-09 17:00:00+00:00</td>\n",
       "      <td>137943615.0</td>\n",
       "      <td>7532226.0</td>\n",
       "      <td>NaN</td>\n",
       "      <td>15080.0</td>\n",
       "      <td>PT46S</td>\n",
       "      <td>hd</td>\n",
       "      <td>False</td>\n",
       "      <td>Tuesday</td>\n",
       "      <td>46.0</td>\n",
       "      <td>0</td>\n",
       "    </tr>\n",
       "  </tbody>\n",
       "</table>\n",
       "</div>"
      ],
      "text/plain": [
       "      video_id channelTitle                                        title  \\\n",
       "0  Pv0iVoSZzN8      MrBeast  10 Minutes To Escape Or This Room Explodes!   \n",
       "1  CWbV3NItSdY      MrBeast                 The World's Fastest Cleaners   \n",
       "2  VLqZUENAFY4      MrBeast            Deal or No Deal with Howie Mandel   \n",
       "3  l-nMKJ5J3Uc      MrBeast        Ages 1 - 100 Decide Who Wins $250,000   \n",
       "4  XE1Qyss8GIY      MrBeast                      Guess The Gift, Keep It   \n",
       "\n",
       "                                         description tags  \\\n",
       "0  I didn’t expect that to happen…\\nThere’s no ju...        \n",
       "1                                                NaN        \n",
       "2                                                NaN        \n",
       "3  I can’t believe who they picked\\nThanks Top Tr...        \n",
       "4                                                NaN        \n",
       "\n",
       "                publishedAt    viewCount  likeCount  favouriteCount  \\\n",
       "0 2024-04-27 16:00:00+00:00   67638666.0  3153884.0             NaN   \n",
       "1 2024-04-25 16:00:03+00:00   84876641.0  5594592.0             NaN   \n",
       "2 2024-04-23 16:00:01+00:00   20143217.0  1309731.0             NaN   \n",
       "3 2024-04-20 15:59:59+00:00  122271133.0  4628485.0             NaN   \n",
       "4 2024-04-09 17:00:00+00:00  137943615.0  7532226.0             NaN   \n",
       "\n",
       "   commentCount duration definition  caption pushblishDayName  durationSecs  \\\n",
       "0       75418.0    PT10M         hd     True         Saturday         600.0   \n",
       "1       16419.0    PT35S         hd    False         Thursday          35.0   \n",
       "2        6313.0    PT44S         hd    False          Tuesday          44.0   \n",
       "3      198324.0  PT40M2S         hd     True         Saturday        2402.0   \n",
       "4       15080.0    PT46S         hd    False          Tuesday          46.0   \n",
       "\n",
       "   tagCount  \n",
       "0         0  \n",
       "1         0  \n",
       "2         0  \n",
       "3         0  \n",
       "4         0  "
      ]
     },
     "execution_count": 10,
     "metadata": {},
     "output_type": "execute_result"
    }
   ],
   "source": [
    "# Replace NaN values with an empty list\n",
    "df['tags'] = df['tags'].fillna('')\n",
    "\n",
    "# Apply lambda function to calculate tag count\n",
    "df['tagCount'] = df['tags'].apply(lambda x: 0 if pd.isna(x) else len(x) if isinstance(x, list) else 0)\n",
    "\n",
    "df.head()\n"
   ]
  },
  {
   "cell_type": "code",
   "execution_count": 11,
   "metadata": {},
   "outputs": [],
   "source": [
    "df.to_csv('Data\\\\apiData.csv', index=False)\n"
   ]
  }
 ],
 "metadata": {
  "kernelspec": {
   "display_name": ".venv",
   "language": "python",
   "name": "python3"
  },
  "language_info": {
   "codemirror_mode": {
    "name": "ipython",
    "version": 3
   },
   "file_extension": ".py",
   "mimetype": "text/x-python",
   "name": "python",
   "nbconvert_exporter": "python",
   "pygments_lexer": "ipython3",
   "version": "3.11.9"
  }
 },
 "nbformat": 4,
 "nbformat_minor": 2
}
