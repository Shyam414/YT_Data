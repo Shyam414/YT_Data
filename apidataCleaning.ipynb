{
 "cells": [
  {
   "cell_type": "code",
   "execution_count": 13,
   "metadata": {},
   "outputs": [],
   "source": [
    "import pandas as pd\n",
    "from dateutil import parser\n",
    "import isodate\n",
    "\n",
    "\n",
    "df=pd.read_csv('Data\\\\apiData.csv')\n"
   ]
  },
  {
   "cell_type": "code",
   "execution_count": 14,
   "metadata": {},
   "outputs": [
    {
     "data": {
      "text/plain": [
       "video_id          False\n",
       "channelTitle      False\n",
       "title             False\n",
       "description        True\n",
       "tags               True\n",
       "publishedAt       False\n",
       "viewCount         False\n",
       "likeCount          True\n",
       "favouriteCount     True\n",
       "commentCount       True\n",
       "duration          False\n",
       "definition        False\n",
       "caption           False\n",
       "dtype: bool"
      ]
     },
     "execution_count": 14,
     "metadata": {},
     "output_type": "execute_result"
    }
   ],
   "source": [
    "df.isnull().any()"
   ]
  },
  {
   "cell_type": "code",
   "execution_count": 15,
   "metadata": {},
   "outputs": [
    {
     "data": {
      "text/plain": [
       "video_id           object\n",
       "channelTitle       object\n",
       "title              object\n",
       "description        object\n",
       "tags               object\n",
       "publishedAt        object\n",
       "viewCount           int64\n",
       "likeCount         float64\n",
       "favouriteCount    float64\n",
       "commentCount      float64\n",
       "duration           object\n",
       "definition         object\n",
       "caption              bool\n",
       "dtype: object"
      ]
     },
     "execution_count": 15,
     "metadata": {},
     "output_type": "execute_result"
    }
   ],
   "source": [
    "df.dtypes\n"
   ]
  },
  {
   "cell_type": "code",
   "execution_count": 16,
   "metadata": {},
   "outputs": [],
   "source": [
    "numeric = ['viewCount', 'likeCount', 'favouriteCount', 'commentCount']\n",
    "df[numeric] = df[numeric].apply(pd.to_numeric, errors = 'coerce', axis = 1)"
   ]
  },
  {
   "cell_type": "code",
   "execution_count": 17,
   "metadata": {},
   "outputs": [
    {
     "data": {
      "text/plain": [
       "video_id           object\n",
       "channelTitle       object\n",
       "title              object\n",
       "description        object\n",
       "tags               object\n",
       "publishedAt        object\n",
       "viewCount         float64\n",
       "likeCount         float64\n",
       "favouriteCount    float64\n",
       "commentCount      float64\n",
       "duration           object\n",
       "definition         object\n",
       "caption              bool\n",
       "dtype: object"
      ]
     },
     "execution_count": 17,
     "metadata": {},
     "output_type": "execute_result"
    }
   ],
   "source": [
    "df.dtypes\n"
   ]
  },
  {
   "cell_type": "code",
   "execution_count": 18,
   "metadata": {},
   "outputs": [
    {
     "name": "stdout",
     "output_type": "stream",
     "text": [
      "0        Saturday\n",
      "1        Thursday\n",
      "2       Wednesday\n",
      "3          Friday\n",
      "4        Saturday\n",
      "          ...    \n",
      "2758       Monday\n",
      "2759       Monday\n",
      "2760    Wednesday\n",
      "2761      Tuesday\n",
      "2762       Friday\n",
      "Name: pushblishDayName, Length: 2763, dtype: object\n",
      "0      2024-05-11 16:00:00+00:00\n",
      "1      2024-05-09 16:00:00+00:00\n",
      "2      2024-05-08 16:00:01+00:00\n",
      "3      2024-05-03 16:00:00+00:00\n",
      "4      2024-04-27 16:00:00+00:00\n",
      "                  ...           \n",
      "2758   2021-08-09 04:00:05+00:00\n",
      "2759   2021-06-07 10:10:00+00:00\n",
      "2760   2021-03-10 09:06:41+00:00\n",
      "2761   2021-03-02 21:29:35+00:00\n",
      "2762   2021-02-26 21:49:48+00:00\n",
      "Name: publishedAt, Length: 2763, dtype: datetime64[ns, tzutc()]\n"
     ]
    }
   ],
   "source": [
    "df['publishedAt'] =df['publishedAt'].apply(lambda x: parser.parse(x)) \n",
    "df['pushblishDayName'] = df['publishedAt'].apply(lambda x: x.strftime(\"%A\")) \n",
    "print(df['pushblishDayName'])\n",
    "print(df['publishedAt'] )"
   ]
  },
  {
   "cell_type": "code",
   "execution_count": 19,
   "metadata": {},
   "outputs": [],
   "source": [
    "df['durationSecs'] = df['duration'].apply(lambda x: isodate.parse_duration(x))\n",
    "df['durationSecs'] = df['durationSecs'].astype('timedelta64[s]')\n",
    "df['durationSecs'] = pd.to_timedelta(df['duration']).dt.total_seconds()\n",
    "\n"
   ]
  },
  {
   "cell_type": "code",
   "execution_count": 20,
   "metadata": {},
   "outputs": [
    {
     "data": {
      "text/html": [
       "<div>\n",
       "<style scoped>\n",
       "    .dataframe tbody tr th:only-of-type {\n",
       "        vertical-align: middle;\n",
       "    }\n",
       "\n",
       "    .dataframe tbody tr th {\n",
       "        vertical-align: top;\n",
       "    }\n",
       "\n",
       "    .dataframe thead th {\n",
       "        text-align: right;\n",
       "    }\n",
       "</style>\n",
       "<table border=\"1\" class=\"dataframe\">\n",
       "  <thead>\n",
       "    <tr style=\"text-align: right;\">\n",
       "      <th></th>\n",
       "      <th>durationSecs</th>\n",
       "      <th>duration</th>\n",
       "    </tr>\n",
       "  </thead>\n",
       "  <tbody>\n",
       "    <tr>\n",
       "      <th>0</th>\n",
       "      <td>908.0</td>\n",
       "      <td>PT15M8S</td>\n",
       "    </tr>\n",
       "    <tr>\n",
       "      <th>1</th>\n",
       "      <td>39.0</td>\n",
       "      <td>PT39S</td>\n",
       "    </tr>\n",
       "    <tr>\n",
       "      <th>2</th>\n",
       "      <td>35.0</td>\n",
       "      <td>PT35S</td>\n",
       "    </tr>\n",
       "    <tr>\n",
       "      <th>3</th>\n",
       "      <td>60.0</td>\n",
       "      <td>PT1M</td>\n",
       "    </tr>\n",
       "    <tr>\n",
       "      <th>4</th>\n",
       "      <td>600.0</td>\n",
       "      <td>PT10M</td>\n",
       "    </tr>\n",
       "    <tr>\n",
       "      <th>...</th>\n",
       "      <td>...</td>\n",
       "      <td>...</td>\n",
       "    </tr>\n",
       "    <tr>\n",
       "      <th>2758</th>\n",
       "      <td>770.0</td>\n",
       "      <td>PT12M50S</td>\n",
       "    </tr>\n",
       "    <tr>\n",
       "      <th>2759</th>\n",
       "      <td>433.0</td>\n",
       "      <td>PT7M13S</td>\n",
       "    </tr>\n",
       "    <tr>\n",
       "      <th>2760</th>\n",
       "      <td>290.0</td>\n",
       "      <td>PT4M50S</td>\n",
       "    </tr>\n",
       "    <tr>\n",
       "      <th>2761</th>\n",
       "      <td>505.0</td>\n",
       "      <td>PT8M25S</td>\n",
       "    </tr>\n",
       "    <tr>\n",
       "      <th>2762</th>\n",
       "      <td>507.0</td>\n",
       "      <td>PT8M27S</td>\n",
       "    </tr>\n",
       "  </tbody>\n",
       "</table>\n",
       "<p>2763 rows × 2 columns</p>\n",
       "</div>"
      ],
      "text/plain": [
       "      durationSecs  duration\n",
       "0            908.0   PT15M8S\n",
       "1             39.0     PT39S\n",
       "2             35.0     PT35S\n",
       "3             60.0      PT1M\n",
       "4            600.0     PT10M\n",
       "...            ...       ...\n",
       "2758         770.0  PT12M50S\n",
       "2759         433.0   PT7M13S\n",
       "2760         290.0   PT4M50S\n",
       "2761         505.0   PT8M25S\n",
       "2762         507.0   PT8M27S\n",
       "\n",
       "[2763 rows x 2 columns]"
      ]
     },
     "execution_count": 20,
     "metadata": {},
     "output_type": "execute_result"
    }
   ],
   "source": [
    "df[['durationSecs', 'duration']] \n"
   ]
  },
  {
   "cell_type": "code",
   "execution_count": 21,
   "metadata": {},
   "outputs": [
    {
     "data": {
      "text/plain": [
       "video_id                             object\n",
       "channelTitle                         object\n",
       "title                                object\n",
       "description                          object\n",
       "tags                                 object\n",
       "publishedAt         datetime64[ns, tzutc()]\n",
       "viewCount                           float64\n",
       "likeCount                           float64\n",
       "favouriteCount                      float64\n",
       "commentCount                        float64\n",
       "duration                             object\n",
       "definition                           object\n",
       "caption                                bool\n",
       "pushblishDayName                     object\n",
       "durationSecs                        float64\n",
       "dtype: object"
      ]
     },
     "execution_count": 21,
     "metadata": {},
     "output_type": "execute_result"
    }
   ],
   "source": [
    "df.dtypes\n"
   ]
  },
  {
   "cell_type": "code",
   "execution_count": 22,
   "metadata": {},
   "outputs": [
    {
     "data": {
      "text/html": [
       "<div>\n",
       "<style scoped>\n",
       "    .dataframe tbody tr th:only-of-type {\n",
       "        vertical-align: middle;\n",
       "    }\n",
       "\n",
       "    .dataframe tbody tr th {\n",
       "        vertical-align: top;\n",
       "    }\n",
       "\n",
       "    .dataframe thead th {\n",
       "        text-align: right;\n",
       "    }\n",
       "</style>\n",
       "<table border=\"1\" class=\"dataframe\">\n",
       "  <thead>\n",
       "    <tr style=\"text-align: right;\">\n",
       "      <th></th>\n",
       "      <th>video_id</th>\n",
       "      <th>channelTitle</th>\n",
       "      <th>title</th>\n",
       "      <th>description</th>\n",
       "      <th>tags</th>\n",
       "      <th>publishedAt</th>\n",
       "      <th>viewCount</th>\n",
       "      <th>likeCount</th>\n",
       "      <th>favouriteCount</th>\n",
       "      <th>commentCount</th>\n",
       "      <th>duration</th>\n",
       "      <th>definition</th>\n",
       "      <th>caption</th>\n",
       "      <th>pushblishDayName</th>\n",
       "      <th>durationSecs</th>\n",
       "      <th>tagCount</th>\n",
       "    </tr>\n",
       "  </thead>\n",
       "  <tbody>\n",
       "    <tr>\n",
       "      <th>0</th>\n",
       "      <td>F6PqxbvOCUI</td>\n",
       "      <td>MrBeast</td>\n",
       "      <td>Protect The Yacht, Keep It!</td>\n",
       "      <td>This video did not go how I expected it to\\nCr...</td>\n",
       "      <td></td>\n",
       "      <td>2024-05-11 16:00:00+00:00</td>\n",
       "      <td>1296896.0</td>\n",
       "      <td>196649.0</td>\n",
       "      <td>NaN</td>\n",
       "      <td>16358.0</td>\n",
       "      <td>PT15M8S</td>\n",
       "      <td>hd</td>\n",
       "      <td>True</td>\n",
       "      <td>Saturday</td>\n",
       "      <td>908.0</td>\n",
       "      <td>0</td>\n",
       "    </tr>\n",
       "    <tr>\n",
       "      <th>1</th>\n",
       "      <td>oA4LSZvX4iE</td>\n",
       "      <td>MrBeast</td>\n",
       "      <td>Ages 1-100 Try My Chocolate</td>\n",
       "      <td>NaN</td>\n",
       "      <td></td>\n",
       "      <td>2024-05-09 16:00:00+00:00</td>\n",
       "      <td>19864376.0</td>\n",
       "      <td>1447579.0</td>\n",
       "      <td>NaN</td>\n",
       "      <td>8955.0</td>\n",
       "      <td>PT39S</td>\n",
       "      <td>hd</td>\n",
       "      <td>False</td>\n",
       "      <td>Thursday</td>\n",
       "      <td>39.0</td>\n",
       "      <td>0</td>\n",
       "    </tr>\n",
       "    <tr>\n",
       "      <th>2</th>\n",
       "      <td>ZKxnjszkZto</td>\n",
       "      <td>MrBeast</td>\n",
       "      <td>Spot The Hidden People For $10,000</td>\n",
       "      <td>NaN</td>\n",
       "      <td></td>\n",
       "      <td>2024-05-08 16:00:01+00:00</td>\n",
       "      <td>28928710.0</td>\n",
       "      <td>1538699.0</td>\n",
       "      <td>NaN</td>\n",
       "      <td>5115.0</td>\n",
       "      <td>PT35S</td>\n",
       "      <td>hd</td>\n",
       "      <td>False</td>\n",
       "      <td>Wednesday</td>\n",
       "      <td>35.0</td>\n",
       "      <td>0</td>\n",
       "    </tr>\n",
       "    <tr>\n",
       "      <th>3</th>\n",
       "      <td>8_gdcaX9Xqk</td>\n",
       "      <td>MrBeast</td>\n",
       "      <td>Would You Split Or Steal $250,000?</td>\n",
       "      <td>NaN</td>\n",
       "      <td></td>\n",
       "      <td>2024-05-03 16:00:00+00:00</td>\n",
       "      <td>38168140.0</td>\n",
       "      <td>3405014.0</td>\n",
       "      <td>NaN</td>\n",
       "      <td>18733.0</td>\n",
       "      <td>PT1M</td>\n",
       "      <td>hd</td>\n",
       "      <td>False</td>\n",
       "      <td>Friday</td>\n",
       "      <td>60.0</td>\n",
       "      <td>0</td>\n",
       "    </tr>\n",
       "    <tr>\n",
       "      <th>4</th>\n",
       "      <td>Pv0iVoSZzN8</td>\n",
       "      <td>MrBeast</td>\n",
       "      <td>10 Minutes To Escape Or This Room Explodes!</td>\n",
       "      <td>I didn’t expect that to happen…\\nThere’s no ju...</td>\n",
       "      <td></td>\n",
       "      <td>2024-04-27 16:00:00+00:00</td>\n",
       "      <td>82462392.0</td>\n",
       "      <td>3440891.0</td>\n",
       "      <td>NaN</td>\n",
       "      <td>86971.0</td>\n",
       "      <td>PT10M</td>\n",
       "      <td>hd</td>\n",
       "      <td>True</td>\n",
       "      <td>Saturday</td>\n",
       "      <td>600.0</td>\n",
       "      <td>0</td>\n",
       "    </tr>\n",
       "  </tbody>\n",
       "</table>\n",
       "</div>"
      ],
      "text/plain": [
       "      video_id channelTitle                                        title  \\\n",
       "0  F6PqxbvOCUI      MrBeast                  Protect The Yacht, Keep It!   \n",
       "1  oA4LSZvX4iE      MrBeast                  Ages 1-100 Try My Chocolate   \n",
       "2  ZKxnjszkZto      MrBeast           Spot The Hidden People For $10,000   \n",
       "3  8_gdcaX9Xqk      MrBeast           Would You Split Or Steal $250,000?   \n",
       "4  Pv0iVoSZzN8      MrBeast  10 Minutes To Escape Or This Room Explodes!   \n",
       "\n",
       "                                         description tags  \\\n",
       "0  This video did not go how I expected it to\\nCr...        \n",
       "1                                                NaN        \n",
       "2                                                NaN        \n",
       "3                                                NaN        \n",
       "4  I didn’t expect that to happen…\\nThere’s no ju...        \n",
       "\n",
       "                publishedAt   viewCount  likeCount  favouriteCount  \\\n",
       "0 2024-05-11 16:00:00+00:00   1296896.0   196649.0             NaN   \n",
       "1 2024-05-09 16:00:00+00:00  19864376.0  1447579.0             NaN   \n",
       "2 2024-05-08 16:00:01+00:00  28928710.0  1538699.0             NaN   \n",
       "3 2024-05-03 16:00:00+00:00  38168140.0  3405014.0             NaN   \n",
       "4 2024-04-27 16:00:00+00:00  82462392.0  3440891.0             NaN   \n",
       "\n",
       "   commentCount duration definition  caption pushblishDayName  durationSecs  \\\n",
       "0       16358.0  PT15M8S         hd     True         Saturday         908.0   \n",
       "1        8955.0    PT39S         hd    False         Thursday          39.0   \n",
       "2        5115.0    PT35S         hd    False        Wednesday          35.0   \n",
       "3       18733.0     PT1M         hd    False           Friday          60.0   \n",
       "4       86971.0    PT10M         hd     True         Saturday         600.0   \n",
       "\n",
       "   tagCount  \n",
       "0         0  \n",
       "1         0  \n",
       "2         0  \n",
       "3         0  \n",
       "4         0  "
      ]
     },
     "execution_count": 22,
     "metadata": {},
     "output_type": "execute_result"
    }
   ],
   "source": [
    "# Replace NaN values with an empty list\n",
    "df['tags'] = df['tags'].fillna('')\n",
    "\n",
    "# Apply lambda function to calculate tag count\n",
    "df['tagCount'] = df['tags'].apply(lambda x: 0 if pd.isna(x) else len(x) if isinstance(x, list) else 0)\n",
    "\n",
    "df.head()\n"
   ]
  },
  {
   "cell_type": "code",
   "execution_count": 23,
   "metadata": {},
   "outputs": [],
   "source": [
    "df.drop('description', axis=1, inplace=True)"
   ]
  },
  {
   "cell_type": "code",
   "execution_count": 24,
   "metadata": {},
   "outputs": [],
   "source": [
    "df.to_csv('Data\\\\CleanData.csv', index=False)\n"
   ]
  }
 ],
 "metadata": {
  "kernelspec": {
   "display_name": ".venv",
   "language": "python",
   "name": "python3"
  },
  "language_info": {
   "codemirror_mode": {
    "name": "ipython",
    "version": 3
   },
   "file_extension": ".py",
   "mimetype": "text/x-python",
   "name": "python",
   "nbconvert_exporter": "python",
   "pygments_lexer": "ipython3",
   "version": "3.11.9"
  }
 },
 "nbformat": 4,
 "nbformat_minor": 2
}
