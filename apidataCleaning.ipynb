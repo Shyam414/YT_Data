{
 "cells": [
  {
   "cell_type": "code",
   "execution_count": 1,
   "metadata": {},
   "outputs": [],
   "source": [
    "import pandas as pd\n",
    "from dateutil import parser\n",
    "import isodate\n",
    "\n",
    "\n",
    "df=pd.read_csv('Data\\\\apiData.csv')\n"
   ]
  },
  {
   "cell_type": "code",
   "execution_count": 2,
   "metadata": {},
   "outputs": [
    {
     "data": {
      "text/plain": [
       "video_id          False\n",
       "channelTitle      False\n",
       "title             False\n",
       "description        True\n",
       "tags               True\n",
       "publishedAt       False\n",
       "viewCount         False\n",
       "likeCount          True\n",
       "favouriteCount     True\n",
       "commentCount       True\n",
       "duration          False\n",
       "definition        False\n",
       "caption           False\n",
       "dtype: bool"
      ]
     },
     "execution_count": 2,
     "metadata": {},
     "output_type": "execute_result"
    }
   ],
   "source": [
    "df.isnull().any()"
   ]
  },
  {
   "cell_type": "code",
   "execution_count": 3,
   "metadata": {},
   "outputs": [
    {
     "data": {
      "text/plain": [
       "video_id           object\n",
       "channelTitle       object\n",
       "title              object\n",
       "description        object\n",
       "tags               object\n",
       "publishedAt        object\n",
       "viewCount           int64\n",
       "likeCount         float64\n",
       "favouriteCount    float64\n",
       "commentCount      float64\n",
       "duration           object\n",
       "definition         object\n",
       "caption              bool\n",
       "dtype: object"
      ]
     },
     "execution_count": 3,
     "metadata": {},
     "output_type": "execute_result"
    }
   ],
   "source": [
    "df.dtypes\n"
   ]
  },
  {
   "cell_type": "code",
   "execution_count": 4,
   "metadata": {},
   "outputs": [],
   "source": [
    "numeric = ['viewCount', 'likeCount', 'favouriteCount', 'commentCount']\n",
    "df[numeric] = df[numeric].apply(pd.to_numeric, errors = 'coerce', axis = 1)"
   ]
  },
  {
   "cell_type": "code",
   "execution_count": 5,
   "metadata": {},
   "outputs": [
    {
     "data": {
      "text/plain": [
       "video_id           object\n",
       "channelTitle       object\n",
       "title              object\n",
       "description        object\n",
       "tags               object\n",
       "publishedAt        object\n",
       "viewCount         float64\n",
       "likeCount         float64\n",
       "favouriteCount    float64\n",
       "commentCount      float64\n",
       "duration           object\n",
       "definition         object\n",
       "caption              bool\n",
       "dtype: object"
      ]
     },
     "execution_count": 5,
     "metadata": {},
     "output_type": "execute_result"
    }
   ],
   "source": [
    "df.dtypes\n"
   ]
  },
  {
   "cell_type": "code",
   "execution_count": 6,
   "metadata": {},
   "outputs": [
    {
     "name": "stdout",
     "output_type": "stream",
     "text": [
      "0         Tuesday\n",
      "1          Monday\n",
      "2          Monday\n",
      "3          Sunday\n",
      "4        Saturday\n",
      "          ...    \n",
      "2772     Thursday\n",
      "2773    Wednesday\n",
      "2774    Wednesday\n",
      "2775       Sunday\n",
      "2776       Monday\n",
      "Name: pushblishDayName, Length: 2777, dtype: object\n",
      "0      2024-05-14 15:06:55+00:00\n",
      "1      2024-05-13 15:14:10+00:00\n",
      "2      2024-05-13 14:54:22+00:00\n",
      "3      2024-05-12 05:43:39+00:00\n",
      "4      2024-05-11 14:41:34+00:00\n",
      "                  ...           \n",
      "2772   2021-06-17 07:01:58+00:00\n",
      "2773   2021-06-09 03:30:08+00:00\n",
      "2774   2021-06-02 03:30:04+00:00\n",
      "2775   2021-05-16 11:38:36+00:00\n",
      "2776   2021-05-10 07:11:05+00:00\n",
      "Name: publishedAt, Length: 2777, dtype: datetime64[ns, tzutc()]\n"
     ]
    }
   ],
   "source": [
    "df['publishedAt'] =df['publishedAt'].apply(lambda x: parser.parse(x)) \n",
    "df['pushblishDayName'] = df['publishedAt'].apply(lambda x: x.strftime(\"%A\")) \n",
    "print(df['pushblishDayName'])\n",
    "print(df['publishedAt'] )"
   ]
  },
  {
   "cell_type": "code",
   "execution_count": 7,
   "metadata": {},
   "outputs": [],
   "source": [
    "df['durationSecs'] = df['duration'].apply(lambda x: isodate.parse_duration(x))\n",
    "df['durationSecs'] = df['durationSecs'].astype('timedelta64[s]')\n",
    "df['durationSecs'] = pd.to_timedelta(df['duration']).dt.total_seconds()\n",
    "\n"
   ]
  },
  {
   "cell_type": "code",
   "execution_count": 8,
   "metadata": {},
   "outputs": [
    {
     "data": {
      "text/html": [
       "<div>\n",
       "<style scoped>\n",
       "    .dataframe tbody tr th:only-of-type {\n",
       "        vertical-align: middle;\n",
       "    }\n",
       "\n",
       "    .dataframe tbody tr th {\n",
       "        vertical-align: top;\n",
       "    }\n",
       "\n",
       "    .dataframe thead th {\n",
       "        text-align: right;\n",
       "    }\n",
       "</style>\n",
       "<table border=\"1\" class=\"dataframe\">\n",
       "  <thead>\n",
       "    <tr style=\"text-align: right;\">\n",
       "      <th></th>\n",
       "      <th>durationSecs</th>\n",
       "      <th>duration</th>\n",
       "    </tr>\n",
       "  </thead>\n",
       "  <tbody>\n",
       "    <tr>\n",
       "      <th>0</th>\n",
       "      <td>60.0</td>\n",
       "      <td>PT1M</td>\n",
       "    </tr>\n",
       "    <tr>\n",
       "      <th>1</th>\n",
       "      <td>1917.0</td>\n",
       "      <td>PT31M57S</td>\n",
       "    </tr>\n",
       "    <tr>\n",
       "      <th>2</th>\n",
       "      <td>59.0</td>\n",
       "      <td>PT59S</td>\n",
       "    </tr>\n",
       "    <tr>\n",
       "      <th>3</th>\n",
       "      <td>27.0</td>\n",
       "      <td>PT27S</td>\n",
       "    </tr>\n",
       "    <tr>\n",
       "      <th>4</th>\n",
       "      <td>44.0</td>\n",
       "      <td>PT44S</td>\n",
       "    </tr>\n",
       "    <tr>\n",
       "      <th>...</th>\n",
       "      <td>...</td>\n",
       "      <td>...</td>\n",
       "    </tr>\n",
       "    <tr>\n",
       "      <th>2772</th>\n",
       "      <td>398.0</td>\n",
       "      <td>PT6M38S</td>\n",
       "    </tr>\n",
       "    <tr>\n",
       "      <th>2773</th>\n",
       "      <td>301.0</td>\n",
       "      <td>PT5M1S</td>\n",
       "    </tr>\n",
       "    <tr>\n",
       "      <th>2774</th>\n",
       "      <td>354.0</td>\n",
       "      <td>PT5M54S</td>\n",
       "    </tr>\n",
       "    <tr>\n",
       "      <th>2775</th>\n",
       "      <td>385.0</td>\n",
       "      <td>PT6M25S</td>\n",
       "    </tr>\n",
       "    <tr>\n",
       "      <th>2776</th>\n",
       "      <td>355.0</td>\n",
       "      <td>PT5M55S</td>\n",
       "    </tr>\n",
       "  </tbody>\n",
       "</table>\n",
       "<p>2777 rows × 2 columns</p>\n",
       "</div>"
      ],
      "text/plain": [
       "      durationSecs  duration\n",
       "0             60.0      PT1M\n",
       "1           1917.0  PT31M57S\n",
       "2             59.0     PT59S\n",
       "3             27.0     PT27S\n",
       "4             44.0     PT44S\n",
       "...            ...       ...\n",
       "2772         398.0   PT6M38S\n",
       "2773         301.0    PT5M1S\n",
       "2774         354.0   PT5M54S\n",
       "2775         385.0   PT6M25S\n",
       "2776         355.0   PT5M55S\n",
       "\n",
       "[2777 rows x 2 columns]"
      ]
     },
     "execution_count": 8,
     "metadata": {},
     "output_type": "execute_result"
    }
   ],
   "source": [
    "df[['durationSecs', 'duration']] \n"
   ]
  },
  {
   "cell_type": "code",
   "execution_count": 9,
   "metadata": {},
   "outputs": [
    {
     "data": {
      "text/plain": [
       "video_id                             object\n",
       "channelTitle                         object\n",
       "title                                object\n",
       "description                          object\n",
       "tags                                 object\n",
       "publishedAt         datetime64[ns, tzutc()]\n",
       "viewCount                           float64\n",
       "likeCount                           float64\n",
       "favouriteCount                      float64\n",
       "commentCount                        float64\n",
       "duration                             object\n",
       "definition                           object\n",
       "caption                                bool\n",
       "pushblishDayName                     object\n",
       "durationSecs                        float64\n",
       "dtype: object"
      ]
     },
     "execution_count": 9,
     "metadata": {},
     "output_type": "execute_result"
    }
   ],
   "source": [
    "df.dtypes\n"
   ]
  },
  {
   "cell_type": "code",
   "execution_count": 10,
   "metadata": {},
   "outputs": [
    {
     "data": {
      "text/html": [
       "<div>\n",
       "<style scoped>\n",
       "    .dataframe tbody tr th:only-of-type {\n",
       "        vertical-align: middle;\n",
       "    }\n",
       "\n",
       "    .dataframe tbody tr th {\n",
       "        vertical-align: top;\n",
       "    }\n",
       "\n",
       "    .dataframe thead th {\n",
       "        text-align: right;\n",
       "    }\n",
       "</style>\n",
       "<table border=\"1\" class=\"dataframe\">\n",
       "  <thead>\n",
       "    <tr style=\"text-align: right;\">\n",
       "      <th></th>\n",
       "      <th>video_id</th>\n",
       "      <th>channelTitle</th>\n",
       "      <th>title</th>\n",
       "      <th>description</th>\n",
       "      <th>tags</th>\n",
       "      <th>publishedAt</th>\n",
       "      <th>viewCount</th>\n",
       "      <th>likeCount</th>\n",
       "      <th>favouriteCount</th>\n",
       "      <th>commentCount</th>\n",
       "      <th>duration</th>\n",
       "      <th>definition</th>\n",
       "      <th>caption</th>\n",
       "      <th>pushblishDayName</th>\n",
       "      <th>durationSecs</th>\n",
       "      <th>tagCount</th>\n",
       "    </tr>\n",
       "  </thead>\n",
       "  <tbody>\n",
       "    <tr>\n",
       "      <th>0</th>\n",
       "      <td>Fj-g-cmSzbo</td>\n",
       "      <td>Rohit &amp; Kanupriya</td>\n",
       "      <td>Beautiful but toxic. #Funny #comedy #couple #e...</td>\n",
       "      <td>NaN</td>\n",
       "      <td></td>\n",
       "      <td>2024-05-14 15:06:55+00:00</td>\n",
       "      <td>801431.0</td>\n",
       "      <td>56093.0</td>\n",
       "      <td>NaN</td>\n",
       "      <td>257.0</td>\n",
       "      <td>PT1M</td>\n",
       "      <td>hd</td>\n",
       "      <td>False</td>\n",
       "      <td>Tuesday</td>\n",
       "      <td>60.0</td>\n",
       "      <td>0</td>\n",
       "    </tr>\n",
       "    <tr>\n",
       "      <th>1</th>\n",
       "      <td>JXvx90MmuG8</td>\n",
       "      <td>Rohit &amp; Kanupriya</td>\n",
       "      <td>Editing our shorts and reels AND an UPGRADE</td>\n",
       "      <td>Was feeling extremely low because of the heats...</td>\n",
       "      <td>['editing', 'rohit and kanu', 'rohit and kanup...</td>\n",
       "      <td>2024-05-13 15:14:10+00:00</td>\n",
       "      <td>18016.0</td>\n",
       "      <td>468.0</td>\n",
       "      <td>NaN</td>\n",
       "      <td>85.0</td>\n",
       "      <td>PT31M57S</td>\n",
       "      <td>hd</td>\n",
       "      <td>False</td>\n",
       "      <td>Monday</td>\n",
       "      <td>1917.0</td>\n",
       "      <td>0</td>\n",
       "    </tr>\n",
       "    <tr>\n",
       "      <th>2</th>\n",
       "      <td>9ay_GsacYWs</td>\n",
       "      <td>Rohit &amp; Kanupriya</td>\n",
       "      <td>Good boy VS Bad boy #funny #comedy #couple #ex...</td>\n",
       "      <td>NaN</td>\n",
       "      <td></td>\n",
       "      <td>2024-05-13 14:54:22+00:00</td>\n",
       "      <td>1626649.0</td>\n",
       "      <td>96485.0</td>\n",
       "      <td>NaN</td>\n",
       "      <td>585.0</td>\n",
       "      <td>PT59S</td>\n",
       "      <td>hd</td>\n",
       "      <td>False</td>\n",
       "      <td>Monday</td>\n",
       "      <td>59.0</td>\n",
       "      <td>0</td>\n",
       "    </tr>\n",
       "    <tr>\n",
       "      <th>3</th>\n",
       "      <td>-hPbCw8XzkQ</td>\n",
       "      <td>Rohit &amp; Kanupriya</td>\n",
       "      <td>Happy Mother’s Day. #mothersday  #mom</td>\n",
       "      <td>NaN</td>\n",
       "      <td></td>\n",
       "      <td>2024-05-12 05:43:39+00:00</td>\n",
       "      <td>652233.0</td>\n",
       "      <td>41210.0</td>\n",
       "      <td>NaN</td>\n",
       "      <td>229.0</td>\n",
       "      <td>PT27S</td>\n",
       "      <td>hd</td>\n",
       "      <td>False</td>\n",
       "      <td>Sunday</td>\n",
       "      <td>27.0</td>\n",
       "      <td>0</td>\n",
       "    </tr>\n",
       "    <tr>\n",
       "      <th>4</th>\n",
       "      <td>yXoqz_GOJxw</td>\n",
       "      <td>Rohit &amp; Kanupriya</td>\n",
       "      <td>When you see a hot guy. #Funny #comedy #couple...</td>\n",
       "      <td>NaN</td>\n",
       "      <td></td>\n",
       "      <td>2024-05-11 14:41:34+00:00</td>\n",
       "      <td>3328620.0</td>\n",
       "      <td>164257.0</td>\n",
       "      <td>NaN</td>\n",
       "      <td>559.0</td>\n",
       "      <td>PT44S</td>\n",
       "      <td>hd</td>\n",
       "      <td>False</td>\n",
       "      <td>Saturday</td>\n",
       "      <td>44.0</td>\n",
       "      <td>0</td>\n",
       "    </tr>\n",
       "  </tbody>\n",
       "</table>\n",
       "</div>"
      ],
      "text/plain": [
       "      video_id       channelTitle  \\\n",
       "0  Fj-g-cmSzbo  Rohit & Kanupriya   \n",
       "1  JXvx90MmuG8  Rohit & Kanupriya   \n",
       "2  9ay_GsacYWs  Rohit & Kanupriya   \n",
       "3  -hPbCw8XzkQ  Rohit & Kanupriya   \n",
       "4  yXoqz_GOJxw  Rohit & Kanupriya   \n",
       "\n",
       "                                               title  \\\n",
       "0  Beautiful but toxic. #Funny #comedy #couple #e...   \n",
       "1        Editing our shorts and reels AND an UPGRADE   \n",
       "2  Good boy VS Bad boy #funny #comedy #couple #ex...   \n",
       "3              Happy Mother’s Day. #mothersday  #mom   \n",
       "4  When you see a hot guy. #Funny #comedy #couple...   \n",
       "\n",
       "                                         description  \\\n",
       "0                                                NaN   \n",
       "1  Was feeling extremely low because of the heats...   \n",
       "2                                                NaN   \n",
       "3                                                NaN   \n",
       "4                                                NaN   \n",
       "\n",
       "                                                tags  \\\n",
       "0                                                      \n",
       "1  ['editing', 'rohit and kanu', 'rohit and kanup...   \n",
       "2                                                      \n",
       "3                                                      \n",
       "4                                                      \n",
       "\n",
       "                publishedAt  viewCount  likeCount  favouriteCount  \\\n",
       "0 2024-05-14 15:06:55+00:00   801431.0    56093.0             NaN   \n",
       "1 2024-05-13 15:14:10+00:00    18016.0      468.0             NaN   \n",
       "2 2024-05-13 14:54:22+00:00  1626649.0    96485.0             NaN   \n",
       "3 2024-05-12 05:43:39+00:00   652233.0    41210.0             NaN   \n",
       "4 2024-05-11 14:41:34+00:00  3328620.0   164257.0             NaN   \n",
       "\n",
       "   commentCount  duration definition  caption pushblishDayName  durationSecs  \\\n",
       "0         257.0      PT1M         hd    False          Tuesday          60.0   \n",
       "1          85.0  PT31M57S         hd    False           Monday        1917.0   \n",
       "2         585.0     PT59S         hd    False           Monday          59.0   \n",
       "3         229.0     PT27S         hd    False           Sunday          27.0   \n",
       "4         559.0     PT44S         hd    False         Saturday          44.0   \n",
       "\n",
       "   tagCount  \n",
       "0         0  \n",
       "1         0  \n",
       "2         0  \n",
       "3         0  \n",
       "4         0  "
      ]
     },
     "execution_count": 10,
     "metadata": {},
     "output_type": "execute_result"
    }
   ],
   "source": [
    "# Replace NaN values with an empty list\n",
    "df['tags'] = df['tags'].fillna('')\n",
    "\n",
    "# Apply lambda function to calculate tag count\n",
    "df['tagCount'] = df['tags'].apply(lambda x: 0 if pd.isna(x) else len(x) if isinstance(x, list) else 0)\n",
    "\n",
    "df.head()\n"
   ]
  },
  {
   "cell_type": "code",
   "execution_count": 11,
   "metadata": {},
   "outputs": [],
   "source": [
    "df.drop('description', axis=1, inplace=True)"
   ]
  },
  {
   "cell_type": "code",
   "execution_count": 12,
   "metadata": {},
   "outputs": [],
   "source": [
    "df.to_csv('Data\\\\CleanData.csv', index=False)\n"
   ]
  }
 ],
 "metadata": {
  "kernelspec": {
   "display_name": ".venv",
   "language": "python",
   "name": "python3"
  },
  "language_info": {
   "codemirror_mode": {
    "name": "ipython",
    "version": 3
   },
   "file_extension": ".py",
   "mimetype": "text/x-python",
   "name": "python",
   "nbconvert_exporter": "python",
   "pygments_lexer": "ipython3",
   "version": "3.11.9"
  }
 },
 "nbformat": 4,
 "nbformat_minor": 2
}
