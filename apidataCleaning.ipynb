{
 "cells": [
  {
   "cell_type": "code",
   "execution_count": 1,
   "metadata": {},
   "outputs": [],
   "source": [
    "import pandas as pd\n",
    "from dateutil import parser\n",
    "import isodate\n",
    "\n",
    "\n",
    "df=pd.read_csv('Data\\\\apiData.csv')\n"
   ]
  },
  {
   "cell_type": "code",
   "execution_count": 2,
   "metadata": {},
   "outputs": [
    {
     "data": {
      "text/plain": [
       "video_id          False\n",
       "channelTitle      False\n",
       "title             False\n",
       "description        True\n",
       "tags               True\n",
       "publishedAt       False\n",
       "viewCount         False\n",
       "likeCount          True\n",
       "favouriteCount     True\n",
       "commentCount       True\n",
       "duration          False\n",
       "definition        False\n",
       "caption           False\n",
       "dtype: bool"
      ]
     },
     "execution_count": 2,
     "metadata": {},
     "output_type": "execute_result"
    }
   ],
   "source": [
    "df.isnull().any()"
   ]
  },
  {
   "cell_type": "code",
   "execution_count": 3,
   "metadata": {},
   "outputs": [
    {
     "data": {
      "text/plain": [
       "video_id           object\n",
       "channelTitle       object\n",
       "title              object\n",
       "description        object\n",
       "tags               object\n",
       "publishedAt        object\n",
       "viewCount           int64\n",
       "likeCount         float64\n",
       "favouriteCount    float64\n",
       "commentCount      float64\n",
       "duration           object\n",
       "definition         object\n",
       "caption              bool\n",
       "dtype: object"
      ]
     },
     "execution_count": 3,
     "metadata": {},
     "output_type": "execute_result"
    }
   ],
   "source": [
    "df.dtypes\n"
   ]
  },
  {
   "cell_type": "code",
   "execution_count": 4,
   "metadata": {},
   "outputs": [],
   "source": [
    "numeric = ['viewCount', 'likeCount', 'favouriteCount', 'commentCount']\n",
    "df[numeric] = df[numeric].apply(pd.to_numeric, errors = 'coerce', axis = 1)"
   ]
  },
  {
   "cell_type": "code",
   "execution_count": 5,
   "metadata": {},
   "outputs": [
    {
     "data": {
      "text/plain": [
       "video_id           object\n",
       "channelTitle       object\n",
       "title              object\n",
       "description        object\n",
       "tags               object\n",
       "publishedAt        object\n",
       "viewCount         float64\n",
       "likeCount         float64\n",
       "favouriteCount    float64\n",
       "commentCount      float64\n",
       "duration           object\n",
       "definition         object\n",
       "caption              bool\n",
       "dtype: object"
      ]
     },
     "execution_count": 5,
     "metadata": {},
     "output_type": "execute_result"
    }
   ],
   "source": [
    "df.dtypes\n"
   ]
  },
  {
   "cell_type": "code",
   "execution_count": 6,
   "metadata": {},
   "outputs": [
    {
     "name": "stdout",
     "output_type": "stream",
     "text": [
      "0          Sunday\n",
      "1          Sunday\n",
      "2          Sunday\n",
      "3          Sunday\n",
      "4          Monday\n",
      "          ...    \n",
      "2767       Sunday\n",
      "2768    Wednesday\n",
      "2769    Wednesday\n",
      "2770    Wednesday\n",
      "2771       Monday\n",
      "Name: pushblishDayName, Length: 2772, dtype: object\n",
      "0      2024-05-12 13:00:51+00:00\n",
      "1      2024-04-21 13:30:00+00:00\n",
      "2      2024-04-14 13:10:17+00:00\n",
      "3      2024-03-31 13:00:21+00:00\n",
      "4      2024-03-11 15:22:46+00:00\n",
      "                  ...           \n",
      "2767   2021-05-30 16:49:42+00:00\n",
      "2768   2021-05-26 15:37:56+00:00\n",
      "2769   2021-05-19 20:29:25+00:00\n",
      "2770   2021-05-19 20:26:16+00:00\n",
      "2771   2013-05-06 18:57:41+00:00\n",
      "Name: publishedAt, Length: 2772, dtype: datetime64[ns, tzutc()]\n"
     ]
    }
   ],
   "source": [
    "df['publishedAt'] =df['publishedAt'].apply(lambda x: parser.parse(x)) \n",
    "df['pushblishDayName'] = df['publishedAt'].apply(lambda x: x.strftime(\"%A\")) \n",
    "print(df['pushblishDayName'])\n",
    "print(df['publishedAt'] )"
   ]
  },
  {
   "cell_type": "code",
   "execution_count": 7,
   "metadata": {},
   "outputs": [],
   "source": [
    "df['durationSecs'] = df['duration'].apply(lambda x: isodate.parse_duration(x))\n",
    "df['durationSecs'] = df['durationSecs'].astype('timedelta64[s]')\n",
    "df['durationSecs'] = pd.to_timedelta(df['duration']).dt.total_seconds()\n",
    "\n"
   ]
  },
  {
   "cell_type": "code",
   "execution_count": 8,
   "metadata": {},
   "outputs": [
    {
     "data": {
      "text/html": [
       "<div>\n",
       "<style scoped>\n",
       "    .dataframe tbody tr th:only-of-type {\n",
       "        vertical-align: middle;\n",
       "    }\n",
       "\n",
       "    .dataframe tbody tr th {\n",
       "        vertical-align: top;\n",
       "    }\n",
       "\n",
       "    .dataframe thead th {\n",
       "        text-align: right;\n",
       "    }\n",
       "</style>\n",
       "<table border=\"1\" class=\"dataframe\">\n",
       "  <thead>\n",
       "    <tr style=\"text-align: right;\">\n",
       "      <th></th>\n",
       "      <th>durationSecs</th>\n",
       "      <th>duration</th>\n",
       "    </tr>\n",
       "  </thead>\n",
       "  <tbody>\n",
       "    <tr>\n",
       "      <th>0</th>\n",
       "      <td>942.0</td>\n",
       "      <td>PT15M42S</td>\n",
       "    </tr>\n",
       "    <tr>\n",
       "      <th>1</th>\n",
       "      <td>4793.0</td>\n",
       "      <td>PT1H19M53S</td>\n",
       "    </tr>\n",
       "    <tr>\n",
       "      <th>2</th>\n",
       "      <td>1436.0</td>\n",
       "      <td>PT23M56S</td>\n",
       "    </tr>\n",
       "    <tr>\n",
       "      <th>3</th>\n",
       "      <td>759.0</td>\n",
       "      <td>PT12M39S</td>\n",
       "    </tr>\n",
       "    <tr>\n",
       "      <th>4</th>\n",
       "      <td>623.0</td>\n",
       "      <td>PT10M23S</td>\n",
       "    </tr>\n",
       "    <tr>\n",
       "      <th>...</th>\n",
       "      <td>...</td>\n",
       "      <td>...</td>\n",
       "    </tr>\n",
       "    <tr>\n",
       "      <th>2767</th>\n",
       "      <td>21.0</td>\n",
       "      <td>PT21S</td>\n",
       "    </tr>\n",
       "    <tr>\n",
       "      <th>2768</th>\n",
       "      <td>13.0</td>\n",
       "      <td>PT13S</td>\n",
       "    </tr>\n",
       "    <tr>\n",
       "      <th>2769</th>\n",
       "      <td>31.0</td>\n",
       "      <td>PT31S</td>\n",
       "    </tr>\n",
       "    <tr>\n",
       "      <th>2770</th>\n",
       "      <td>80.0</td>\n",
       "      <td>PT1M20S</td>\n",
       "    </tr>\n",
       "    <tr>\n",
       "      <th>2771</th>\n",
       "      <td>618.0</td>\n",
       "      <td>PT10M18S</td>\n",
       "    </tr>\n",
       "  </tbody>\n",
       "</table>\n",
       "<p>2772 rows × 2 columns</p>\n",
       "</div>"
      ],
      "text/plain": [
       "      durationSecs    duration\n",
       "0            942.0    PT15M42S\n",
       "1           4793.0  PT1H19M53S\n",
       "2           1436.0    PT23M56S\n",
       "3            759.0    PT12M39S\n",
       "4            623.0    PT10M23S\n",
       "...            ...         ...\n",
       "2767          21.0       PT21S\n",
       "2768          13.0       PT13S\n",
       "2769          31.0       PT31S\n",
       "2770          80.0     PT1M20S\n",
       "2771         618.0    PT10M18S\n",
       "\n",
       "[2772 rows x 2 columns]"
      ]
     },
     "execution_count": 8,
     "metadata": {},
     "output_type": "execute_result"
    }
   ],
   "source": [
    "df[['durationSecs', 'duration']] \n"
   ]
  },
  {
   "cell_type": "code",
   "execution_count": 9,
   "metadata": {},
   "outputs": [
    {
     "data": {
      "text/plain": [
       "video_id                             object\n",
       "channelTitle                         object\n",
       "title                                object\n",
       "description                          object\n",
       "tags                                 object\n",
       "publishedAt         datetime64[ns, tzutc()]\n",
       "viewCount                           float64\n",
       "likeCount                           float64\n",
       "favouriteCount                      float64\n",
       "commentCount                        float64\n",
       "duration                             object\n",
       "definition                           object\n",
       "caption                                bool\n",
       "pushblishDayName                     object\n",
       "durationSecs                        float64\n",
       "dtype: object"
      ]
     },
     "execution_count": 9,
     "metadata": {},
     "output_type": "execute_result"
    }
   ],
   "source": [
    "df.dtypes\n"
   ]
  },
  {
   "cell_type": "code",
   "execution_count": 10,
   "metadata": {},
   "outputs": [
    {
     "data": {
      "text/html": [
       "<div>\n",
       "<style scoped>\n",
       "    .dataframe tbody tr th:only-of-type {\n",
       "        vertical-align: middle;\n",
       "    }\n",
       "\n",
       "    .dataframe tbody tr th {\n",
       "        vertical-align: top;\n",
       "    }\n",
       "\n",
       "    .dataframe thead th {\n",
       "        text-align: right;\n",
       "    }\n",
       "</style>\n",
       "<table border=\"1\" class=\"dataframe\">\n",
       "  <thead>\n",
       "    <tr style=\"text-align: right;\">\n",
       "      <th></th>\n",
       "      <th>video_id</th>\n",
       "      <th>channelTitle</th>\n",
       "      <th>title</th>\n",
       "      <th>description</th>\n",
       "      <th>tags</th>\n",
       "      <th>publishedAt</th>\n",
       "      <th>viewCount</th>\n",
       "      <th>likeCount</th>\n",
       "      <th>favouriteCount</th>\n",
       "      <th>commentCount</th>\n",
       "      <th>duration</th>\n",
       "      <th>definition</th>\n",
       "      <th>caption</th>\n",
       "      <th>pushblishDayName</th>\n",
       "      <th>durationSecs</th>\n",
       "      <th>tagCount</th>\n",
       "    </tr>\n",
       "  </thead>\n",
       "  <tbody>\n",
       "    <tr>\n",
       "      <th>0</th>\n",
       "      <td>r_K9hznoPKU</td>\n",
       "      <td>Darshil Parmar</td>\n",
       "      <td>The State of Data Engineering in 2024 - Jobs, ...</td>\n",
       "      <td>Combo Package Python + SQL + Data warehouse (S...</td>\n",
       "      <td>['The State of Data Engineering in 2024', 'dat...</td>\n",
       "      <td>2024-05-12 13:00:51+00:00</td>\n",
       "      <td>19221.0</td>\n",
       "      <td>454.0</td>\n",
       "      <td>NaN</td>\n",
       "      <td>55.0</td>\n",
       "      <td>PT15M42S</td>\n",
       "      <td>hd</td>\n",
       "      <td>True</td>\n",
       "      <td>Sunday</td>\n",
       "      <td>942.0</td>\n",
       "      <td>0</td>\n",
       "    </tr>\n",
       "    <tr>\n",
       "      <th>1</th>\n",
       "      <td>0iNJPKheQqM</td>\n",
       "      <td>Darshil Parmar</td>\n",
       "      <td>IPL Data Analysis | Apache Spark End-To-End Da...</td>\n",
       "      <td>Enroll in the Apache Spark Course Here - https...</td>\n",
       "      <td>['darshil parmar', 'data engineer interview ti...</td>\n",
       "      <td>2024-04-21 13:30:00+00:00</td>\n",
       "      <td>36689.0</td>\n",
       "      <td>1238.0</td>\n",
       "      <td>NaN</td>\n",
       "      <td>95.0</td>\n",
       "      <td>PT1H19M53S</td>\n",
       "      <td>hd</td>\n",
       "      <td>False</td>\n",
       "      <td>Sunday</td>\n",
       "      <td>4793.0</td>\n",
       "      <td>0</td>\n",
       "    </tr>\n",
       "    <tr>\n",
       "      <th>2</th>\n",
       "      <td>XnPF-MDMUzc</td>\n",
       "      <td>Darshil Parmar</td>\n",
       "      <td>You're not stupid: How to learn difficult thin...</td>\n",
       "      <td>Enroll in the Apache Spark Course Here - https...</td>\n",
       "      <td>['darshil parmar', 'data engineering', 'how to...</td>\n",
       "      <td>2024-04-14 13:10:17+00:00</td>\n",
       "      <td>19261.0</td>\n",
       "      <td>583.0</td>\n",
       "      <td>NaN</td>\n",
       "      <td>44.0</td>\n",
       "      <td>PT23M56S</td>\n",
       "      <td>hd</td>\n",
       "      <td>True</td>\n",
       "      <td>Sunday</td>\n",
       "      <td>1436.0</td>\n",
       "      <td>0</td>\n",
       "    </tr>\n",
       "    <tr>\n",
       "      <th>3</th>\n",
       "      <td>V7ue-tM2aYU</td>\n",
       "      <td>Darshil Parmar</td>\n",
       "      <td>Best Apache Spark Course with Databricks for D...</td>\n",
       "      <td>Enroll in the Apache Spark Course Here - https...</td>\n",
       "      <td>['darshil parmar', 'data engineering projects ...</td>\n",
       "      <td>2024-03-31 13:00:21+00:00</td>\n",
       "      <td>16681.0</td>\n",
       "      <td>418.0</td>\n",
       "      <td>NaN</td>\n",
       "      <td>73.0</td>\n",
       "      <td>PT12M39S</td>\n",
       "      <td>hd</td>\n",
       "      <td>True</td>\n",
       "      <td>Sunday</td>\n",
       "      <td>759.0</td>\n",
       "      <td>0</td>\n",
       "    </tr>\n",
       "    <tr>\n",
       "      <th>4</th>\n",
       "      <td>KV4hZR5-D-4</td>\n",
       "      <td>Darshil Parmar</td>\n",
       "      <td>How I Got 60LPA Remote Job as Data Engineer</td>\n",
       "      <td>Join My Data Engineering Course Here: https://...</td>\n",
       "      <td>['darshil parmar data engineer project', 'data...</td>\n",
       "      <td>2024-03-11 15:22:46+00:00</td>\n",
       "      <td>107354.0</td>\n",
       "      <td>2806.0</td>\n",
       "      <td>NaN</td>\n",
       "      <td>104.0</td>\n",
       "      <td>PT10M23S</td>\n",
       "      <td>hd</td>\n",
       "      <td>True</td>\n",
       "      <td>Monday</td>\n",
       "      <td>623.0</td>\n",
       "      <td>0</td>\n",
       "    </tr>\n",
       "  </tbody>\n",
       "</table>\n",
       "</div>"
      ],
      "text/plain": [
       "      video_id    channelTitle  \\\n",
       "0  r_K9hznoPKU  Darshil Parmar   \n",
       "1  0iNJPKheQqM  Darshil Parmar   \n",
       "2  XnPF-MDMUzc  Darshil Parmar   \n",
       "3  V7ue-tM2aYU  Darshil Parmar   \n",
       "4  KV4hZR5-D-4  Darshil Parmar   \n",
       "\n",
       "                                               title  \\\n",
       "0  The State of Data Engineering in 2024 - Jobs, ...   \n",
       "1  IPL Data Analysis | Apache Spark End-To-End Da...   \n",
       "2  You're not stupid: How to learn difficult thin...   \n",
       "3  Best Apache Spark Course with Databricks for D...   \n",
       "4        How I Got 60LPA Remote Job as Data Engineer   \n",
       "\n",
       "                                         description  \\\n",
       "0  Combo Package Python + SQL + Data warehouse (S...   \n",
       "1  Enroll in the Apache Spark Course Here - https...   \n",
       "2  Enroll in the Apache Spark Course Here - https...   \n",
       "3  Enroll in the Apache Spark Course Here - https...   \n",
       "4  Join My Data Engineering Course Here: https://...   \n",
       "\n",
       "                                                tags  \\\n",
       "0  ['The State of Data Engineering in 2024', 'dat...   \n",
       "1  ['darshil parmar', 'data engineer interview ti...   \n",
       "2  ['darshil parmar', 'data engineering', 'how to...   \n",
       "3  ['darshil parmar', 'data engineering projects ...   \n",
       "4  ['darshil parmar data engineer project', 'data...   \n",
       "\n",
       "                publishedAt  viewCount  likeCount  favouriteCount  \\\n",
       "0 2024-05-12 13:00:51+00:00    19221.0      454.0             NaN   \n",
       "1 2024-04-21 13:30:00+00:00    36689.0     1238.0             NaN   \n",
       "2 2024-04-14 13:10:17+00:00    19261.0      583.0             NaN   \n",
       "3 2024-03-31 13:00:21+00:00    16681.0      418.0             NaN   \n",
       "4 2024-03-11 15:22:46+00:00   107354.0     2806.0             NaN   \n",
       "\n",
       "   commentCount    duration definition  caption pushblishDayName  \\\n",
       "0          55.0    PT15M42S         hd     True           Sunday   \n",
       "1          95.0  PT1H19M53S         hd    False           Sunday   \n",
       "2          44.0    PT23M56S         hd     True           Sunday   \n",
       "3          73.0    PT12M39S         hd     True           Sunday   \n",
       "4         104.0    PT10M23S         hd     True           Monday   \n",
       "\n",
       "   durationSecs  tagCount  \n",
       "0         942.0         0  \n",
       "1        4793.0         0  \n",
       "2        1436.0         0  \n",
       "3         759.0         0  \n",
       "4         623.0         0  "
      ]
     },
     "execution_count": 10,
     "metadata": {},
     "output_type": "execute_result"
    }
   ],
   "source": [
    "# Replace NaN values with an empty list\n",
    "df['tags'] = df['tags'].fillna('')\n",
    "\n",
    "# Apply lambda function to calculate tag count\n",
    "df['tagCount'] = df['tags'].apply(lambda x: 0 if pd.isna(x) else len(x) if isinstance(x, list) else 0)\n",
    "\n",
    "df.head()\n"
   ]
  },
  {
   "cell_type": "code",
   "execution_count": 11,
   "metadata": {},
   "outputs": [],
   "source": [
    "df.drop('description', axis=1, inplace=True)"
   ]
  },
  {
   "cell_type": "code",
   "execution_count": 12,
   "metadata": {},
   "outputs": [],
   "source": [
    "df.to_csv('Data\\\\CleanData.csv', index=False)\n"
   ]
  }
 ],
 "metadata": {
  "kernelspec": {
   "display_name": ".venv",
   "language": "python",
   "name": "python3"
  },
  "language_info": {
   "codemirror_mode": {
    "name": "ipython",
    "version": 3
   },
   "file_extension": ".py",
   "mimetype": "text/x-python",
   "name": "python",
   "nbconvert_exporter": "python",
   "pygments_lexer": "ipython3",
   "version": "3.11.9"
  }
 },
 "nbformat": 4,
 "nbformat_minor": 2
}
