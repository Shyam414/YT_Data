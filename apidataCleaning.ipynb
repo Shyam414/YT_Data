{
 "cells": [
  {
   "cell_type": "code",
   "execution_count": 23,
   "metadata": {},
   "outputs": [],
   "source": [
    "import pandas as pd\n",
    "from dateutil import parser\n",
    "import isodate\n",
    "\n",
    "\n",
    "df=pd.read_csv('Data\\\\apiData.csv')\n"
   ]
  },
  {
   "cell_type": "code",
   "execution_count": 24,
   "metadata": {},
   "outputs": [
    {
     "data": {
      "text/plain": [
       "video_id          False\n",
       "channelTitle      False\n",
       "title             False\n",
       "description        True\n",
       "tags               True\n",
       "publishedAt       False\n",
       "viewCount         False\n",
       "likeCount          True\n",
       "favouriteCount     True\n",
       "commentCount       True\n",
       "duration          False\n",
       "definition        False\n",
       "caption           False\n",
       "dtype: bool"
      ]
     },
     "execution_count": 24,
     "metadata": {},
     "output_type": "execute_result"
    }
   ],
   "source": [
    "df.isnull().any()"
   ]
  },
  {
   "cell_type": "code",
   "execution_count": 25,
   "metadata": {},
   "outputs": [
    {
     "data": {
      "text/plain": [
       "video_id           object\n",
       "channelTitle       object\n",
       "title              object\n",
       "description        object\n",
       "tags               object\n",
       "publishedAt        object\n",
       "viewCount           int64\n",
       "likeCount         float64\n",
       "favouriteCount    float64\n",
       "commentCount      float64\n",
       "duration           object\n",
       "definition         object\n",
       "caption              bool\n",
       "dtype: object"
      ]
     },
     "execution_count": 25,
     "metadata": {},
     "output_type": "execute_result"
    }
   ],
   "source": [
    "df.dtypes\n"
   ]
  },
  {
   "cell_type": "code",
   "execution_count": 26,
   "metadata": {},
   "outputs": [],
   "source": [
    "numeric_cols = ['viewCount', 'likeCount', 'favouriteCount', 'commentCount']\n",
    "df[numeric_cols] = df[numeric_cols].apply(pd.to_numeric, errors = 'coerce', axis = 1)"
   ]
  },
  {
   "cell_type": "code",
   "execution_count": 27,
   "metadata": {},
   "outputs": [
    {
     "data": {
      "text/plain": [
       "video_id           object\n",
       "channelTitle       object\n",
       "title              object\n",
       "description        object\n",
       "tags               object\n",
       "publishedAt        object\n",
       "viewCount         float64\n",
       "likeCount         float64\n",
       "favouriteCount    float64\n",
       "commentCount      float64\n",
       "duration           object\n",
       "definition         object\n",
       "caption              bool\n",
       "dtype: object"
      ]
     },
     "execution_count": 27,
     "metadata": {},
     "output_type": "execute_result"
    }
   ],
   "source": [
    "df.dtypes\n"
   ]
  },
  {
   "cell_type": "code",
   "execution_count": 28,
   "metadata": {},
   "outputs": [],
   "source": [
    "df['publishedAt'] =df['publishedAt'].apply(lambda x: parser.parse(x)) \n",
    "df['pushblishDayName'] = df['publishedAt'].apply(lambda x: x.strftime(\"%A\")) "
   ]
  },
  {
   "cell_type": "code",
   "execution_count": 29,
   "metadata": {},
   "outputs": [],
   "source": [
    "df['durationSecs'] = df['duration'].apply(lambda x: isodate.parse_duration(x))\n",
    "df['durationSecs'] = df['durationSecs'].astype('timedelta64[s]')\n",
    "df['durationSecs'] = pd.to_timedelta(df['duration']).dt.total_seconds()\n",
    "\n"
   ]
  },
  {
   "cell_type": "code",
   "execution_count": 30,
   "metadata": {},
   "outputs": [
    {
     "data": {
      "text/html": [
       "<div>\n",
       "<style scoped>\n",
       "    .dataframe tbody tr th:only-of-type {\n",
       "        vertical-align: middle;\n",
       "    }\n",
       "\n",
       "    .dataframe tbody tr th {\n",
       "        vertical-align: top;\n",
       "    }\n",
       "\n",
       "    .dataframe thead th {\n",
       "        text-align: right;\n",
       "    }\n",
       "</style>\n",
       "<table border=\"1\" class=\"dataframe\">\n",
       "  <thead>\n",
       "    <tr style=\"text-align: right;\">\n",
       "      <th></th>\n",
       "      <th>durationSecs</th>\n",
       "      <th>duration</th>\n",
       "    </tr>\n",
       "  </thead>\n",
       "  <tbody>\n",
       "    <tr>\n",
       "      <th>0</th>\n",
       "      <td>317.0</td>\n",
       "      <td>PT5M17S</td>\n",
       "    </tr>\n",
       "    <tr>\n",
       "      <th>1</th>\n",
       "      <td>377.0</td>\n",
       "      <td>PT6M17S</td>\n",
       "    </tr>\n",
       "    <tr>\n",
       "      <th>2</th>\n",
       "      <td>295.0</td>\n",
       "      <td>PT4M55S</td>\n",
       "    </tr>\n",
       "    <tr>\n",
       "      <th>3</th>\n",
       "      <td>41.0</td>\n",
       "      <td>PT41S</td>\n",
       "    </tr>\n",
       "    <tr>\n",
       "      <th>4</th>\n",
       "      <td>30.0</td>\n",
       "      <td>PT30S</td>\n",
       "    </tr>\n",
       "    <tr>\n",
       "      <th>...</th>\n",
       "      <td>...</td>\n",
       "      <td>...</td>\n",
       "    </tr>\n",
       "    <tr>\n",
       "      <th>2734</th>\n",
       "      <td>21.0</td>\n",
       "      <td>PT21S</td>\n",
       "    </tr>\n",
       "    <tr>\n",
       "      <th>2735</th>\n",
       "      <td>13.0</td>\n",
       "      <td>PT13S</td>\n",
       "    </tr>\n",
       "    <tr>\n",
       "      <th>2736</th>\n",
       "      <td>31.0</td>\n",
       "      <td>PT31S</td>\n",
       "    </tr>\n",
       "    <tr>\n",
       "      <th>2737</th>\n",
       "      <td>80.0</td>\n",
       "      <td>PT1M20S</td>\n",
       "    </tr>\n",
       "    <tr>\n",
       "      <th>2738</th>\n",
       "      <td>618.0</td>\n",
       "      <td>PT10M18S</td>\n",
       "    </tr>\n",
       "  </tbody>\n",
       "</table>\n",
       "<p>2739 rows × 2 columns</p>\n",
       "</div>"
      ],
      "text/plain": [
       "      durationSecs  duration\n",
       "0            317.0   PT5M17S\n",
       "1            377.0   PT6M17S\n",
       "2            295.0   PT4M55S\n",
       "3             41.0     PT41S\n",
       "4             30.0     PT30S\n",
       "...            ...       ...\n",
       "2734          21.0     PT21S\n",
       "2735          13.0     PT13S\n",
       "2736          31.0     PT31S\n",
       "2737          80.0   PT1M20S\n",
       "2738         618.0  PT10M18S\n",
       "\n",
       "[2739 rows x 2 columns]"
      ]
     },
     "execution_count": 30,
     "metadata": {},
     "output_type": "execute_result"
    }
   ],
   "source": [
    "df[['durationSecs', 'duration']] \n"
   ]
  },
  {
   "cell_type": "code",
   "execution_count": 31,
   "metadata": {},
   "outputs": [
    {
     "data": {
      "text/plain": [
       "video_id                             object\n",
       "channelTitle                         object\n",
       "title                                object\n",
       "description                          object\n",
       "tags                                 object\n",
       "publishedAt         datetime64[ns, tzutc()]\n",
       "viewCount                           float64\n",
       "likeCount                           float64\n",
       "favouriteCount                      float64\n",
       "commentCount                        float64\n",
       "duration                             object\n",
       "definition                           object\n",
       "caption                                bool\n",
       "pushblishDayName                     object\n",
       "durationSecs                        float64\n",
       "dtype: object"
      ]
     },
     "execution_count": 31,
     "metadata": {},
     "output_type": "execute_result"
    }
   ],
   "source": [
    "df.dtypes\n"
   ]
  },
  {
   "cell_type": "code",
   "execution_count": 32,
   "metadata": {},
   "outputs": [
    {
     "data": {
      "text/html": [
       "<div>\n",
       "<style scoped>\n",
       "    .dataframe tbody tr th:only-of-type {\n",
       "        vertical-align: middle;\n",
       "    }\n",
       "\n",
       "    .dataframe tbody tr th {\n",
       "        vertical-align: top;\n",
       "    }\n",
       "\n",
       "    .dataframe thead th {\n",
       "        text-align: right;\n",
       "    }\n",
       "</style>\n",
       "<table border=\"1\" class=\"dataframe\">\n",
       "  <thead>\n",
       "    <tr style=\"text-align: right;\">\n",
       "      <th></th>\n",
       "      <th>video_id</th>\n",
       "      <th>channelTitle</th>\n",
       "      <th>title</th>\n",
       "      <th>description</th>\n",
       "      <th>tags</th>\n",
       "      <th>publishedAt</th>\n",
       "      <th>viewCount</th>\n",
       "      <th>likeCount</th>\n",
       "      <th>favouriteCount</th>\n",
       "      <th>commentCount</th>\n",
       "      <th>duration</th>\n",
       "      <th>definition</th>\n",
       "      <th>caption</th>\n",
       "      <th>pushblishDayName</th>\n",
       "      <th>durationSecs</th>\n",
       "      <th>tagCount</th>\n",
       "    </tr>\n",
       "  </thead>\n",
       "  <tbody>\n",
       "    <tr>\n",
       "      <th>0</th>\n",
       "      <td>i_pwu8bGjqc</td>\n",
       "      <td>KALEO</td>\n",
       "      <td>KALEO - Lonely Cowboy (Live at the Grand Ole O...</td>\n",
       "      <td>KALEO's live performance of this latest single...</td>\n",
       "      <td>['kaleo', 'kaleo music', 'way down we go', 'ic...</td>\n",
       "      <td>2024-04-26 14:00:37+00:00</td>\n",
       "      <td>71135.0</td>\n",
       "      <td>3368.0</td>\n",
       "      <td>NaN</td>\n",
       "      <td>189.0</td>\n",
       "      <td>PT5M17S</td>\n",
       "      <td>hd</td>\n",
       "      <td>False</td>\n",
       "      <td>Friday</td>\n",
       "      <td>317.0</td>\n",
       "      <td>0</td>\n",
       "    </tr>\n",
       "    <tr>\n",
       "      <th>1</th>\n",
       "      <td>IfzGg4aPiqM</td>\n",
       "      <td>KALEO</td>\n",
       "      <td>KALEO - Lonely Cowboy [Live in the Colosseum]</td>\n",
       "      <td>KALEO's new single 'Lonely Cowboy' performed L...</td>\n",
       "      <td>['kaleo', 'kaleo music', 'all the pretty girls...</td>\n",
       "      <td>2024-03-29 13:00:08+00:00</td>\n",
       "      <td>555709.0</td>\n",
       "      <td>19294.0</td>\n",
       "      <td>NaN</td>\n",
       "      <td>1117.0</td>\n",
       "      <td>PT6M17S</td>\n",
       "      <td>hd</td>\n",
       "      <td>False</td>\n",
       "      <td>Friday</td>\n",
       "      <td>377.0</td>\n",
       "      <td>0</td>\n",
       "    </tr>\n",
       "    <tr>\n",
       "      <th>2</th>\n",
       "      <td>5IsXCi3C1Cw</td>\n",
       "      <td>KALEO</td>\n",
       "      <td>KALEO - Lonely Cowboy (Official Audio)</td>\n",
       "      <td>The official audio for KALEO's new single 'Lon...</td>\n",
       "      <td>['kaleo', 'kaleo music', 'all the pretty girls...</td>\n",
       "      <td>2024-03-29 04:00:06+00:00</td>\n",
       "      <td>191390.0</td>\n",
       "      <td>6727.0</td>\n",
       "      <td>NaN</td>\n",
       "      <td>234.0</td>\n",
       "      <td>PT4M55S</td>\n",
       "      <td>hd</td>\n",
       "      <td>False</td>\n",
       "      <td>Friday</td>\n",
       "      <td>295.0</td>\n",
       "      <td>0</td>\n",
       "    </tr>\n",
       "    <tr>\n",
       "      <th>3</th>\n",
       "      <td>IFOgkKKGaCg</td>\n",
       "      <td>KALEO</td>\n",
       "      <td>Pre-save Lonely Cowboy now! #kaleo #newmusic #...</td>\n",
       "      <td>NaN</td>\n",
       "      <td></td>\n",
       "      <td>2024-03-26 16:46:37+00:00</td>\n",
       "      <td>11333.0</td>\n",
       "      <td>1302.0</td>\n",
       "      <td>NaN</td>\n",
       "      <td>48.0</td>\n",
       "      <td>PT41S</td>\n",
       "      <td>hd</td>\n",
       "      <td>False</td>\n",
       "      <td>Tuesday</td>\n",
       "      <td>41.0</td>\n",
       "      <td>0</td>\n",
       "    </tr>\n",
       "    <tr>\n",
       "      <th>4</th>\n",
       "      <td>O8Dqs7-UfnI</td>\n",
       "      <td>KALEO</td>\n",
       "      <td>#kaleo #waydownwego #newmusic #comingsoon</td>\n",
       "      <td>NaN</td>\n",
       "      <td></td>\n",
       "      <td>2024-03-24 16:24:05+00:00</td>\n",
       "      <td>10067.0</td>\n",
       "      <td>1131.0</td>\n",
       "      <td>NaN</td>\n",
       "      <td>38.0</td>\n",
       "      <td>PT30S</td>\n",
       "      <td>hd</td>\n",
       "      <td>False</td>\n",
       "      <td>Sunday</td>\n",
       "      <td>30.0</td>\n",
       "      <td>0</td>\n",
       "    </tr>\n",
       "  </tbody>\n",
       "</table>\n",
       "</div>"
      ],
      "text/plain": [
       "      video_id channelTitle  \\\n",
       "0  i_pwu8bGjqc        KALEO   \n",
       "1  IfzGg4aPiqM        KALEO   \n",
       "2  5IsXCi3C1Cw        KALEO   \n",
       "3  IFOgkKKGaCg        KALEO   \n",
       "4  O8Dqs7-UfnI        KALEO   \n",
       "\n",
       "                                               title  \\\n",
       "0  KALEO - Lonely Cowboy (Live at the Grand Ole O...   \n",
       "1      KALEO - Lonely Cowboy [Live in the Colosseum]   \n",
       "2             KALEO - Lonely Cowboy (Official Audio)   \n",
       "3  Pre-save Lonely Cowboy now! #kaleo #newmusic #...   \n",
       "4          #kaleo #waydownwego #newmusic #comingsoon   \n",
       "\n",
       "                                         description  \\\n",
       "0  KALEO's live performance of this latest single...   \n",
       "1  KALEO's new single 'Lonely Cowboy' performed L...   \n",
       "2  The official audio for KALEO's new single 'Lon...   \n",
       "3                                                NaN   \n",
       "4                                                NaN   \n",
       "\n",
       "                                                tags  \\\n",
       "0  ['kaleo', 'kaleo music', 'way down we go', 'ic...   \n",
       "1  ['kaleo', 'kaleo music', 'all the pretty girls...   \n",
       "2  ['kaleo', 'kaleo music', 'all the pretty girls...   \n",
       "3                                                      \n",
       "4                                                      \n",
       "\n",
       "                publishedAt  viewCount  likeCount  favouriteCount  \\\n",
       "0 2024-04-26 14:00:37+00:00    71135.0     3368.0             NaN   \n",
       "1 2024-03-29 13:00:08+00:00   555709.0    19294.0             NaN   \n",
       "2 2024-03-29 04:00:06+00:00   191390.0     6727.0             NaN   \n",
       "3 2024-03-26 16:46:37+00:00    11333.0     1302.0             NaN   \n",
       "4 2024-03-24 16:24:05+00:00    10067.0     1131.0             NaN   \n",
       "\n",
       "   commentCount duration definition  caption pushblishDayName  durationSecs  \\\n",
       "0         189.0  PT5M17S         hd    False           Friday         317.0   \n",
       "1        1117.0  PT6M17S         hd    False           Friday         377.0   \n",
       "2         234.0  PT4M55S         hd    False           Friday         295.0   \n",
       "3          48.0    PT41S         hd    False          Tuesday          41.0   \n",
       "4          38.0    PT30S         hd    False           Sunday          30.0   \n",
       "\n",
       "   tagCount  \n",
       "0         0  \n",
       "1         0  \n",
       "2         0  \n",
       "3         0  \n",
       "4         0  "
      ]
     },
     "execution_count": 32,
     "metadata": {},
     "output_type": "execute_result"
    }
   ],
   "source": [
    "# Replace NaN values with an empty list\n",
    "df['tags'] = df['tags'].fillna('')\n",
    "\n",
    "# Apply lambda function to calculate tag count\n",
    "df['tagCount'] = df['tags'].apply(lambda x: 0 if pd.isna(x) else len(x) if isinstance(x, list) else 0)\n",
    "\n",
    "df.head()\n"
   ]
  },
  {
   "cell_type": "code",
   "execution_count": 33,
   "metadata": {},
   "outputs": [],
   "source": [
    "df.to_csv('Data\\\\apiData.csv', index=False)\n"
   ]
  }
 ],
 "metadata": {
  "kernelspec": {
   "display_name": ".venv",
   "language": "python",
   "name": "python3"
  },
  "language_info": {
   "codemirror_mode": {
    "name": "ipython",
    "version": 3
   },
   "file_extension": ".py",
   "mimetype": "text/x-python",
   "name": "python",
   "nbconvert_exporter": "python",
   "pygments_lexer": "ipython3",
   "version": "3.11.9"
  }
 },
 "nbformat": 4,
 "nbformat_minor": 2
}
